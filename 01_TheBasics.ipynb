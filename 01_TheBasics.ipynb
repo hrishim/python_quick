{
 "cells": [
  {
   "cell_type": "markdown",
   "id": "790ca97e-65a0-4a6d-b05d-d781852e7891",
   "metadata": {},
   "source": [
    "# The Basics"
   ]
  },
  {
   "cell_type": "markdown",
   "id": "3f3b24fe-63fb-4e4f-a58f-bb738801d450",
   "metadata": {},
   "source": [
    "Python is a dynamically typed language. This means that the data type of a variable is determined at runtime, not at compile time. Unlike statically typed languages like C/C++, where the type of a variable must be declared before use, Python allows variables to be assigned different types of values during execution without explicit type declarations. Depending on the situation, this can be a boon or a curse."
   ]
  },
  {
   "cell_type": "code",
   "execution_count": 6,
   "id": "a9922b20-ef40-40cf-8c08-f521f70b8b5f",
   "metadata": {},
   "outputs": [
    {
     "name": "stdout",
     "output_type": "stream",
     "text": [
      "10\n",
      "Hello\n"
     ]
    }
   ],
   "source": [
    "var = 10  # var is an integer\n",
    "print(var)\n",
    "var = \"Hello\"  # var is now a string\n",
    "print(var)"
   ]
  },
  {
   "cell_type": "markdown",
   "id": "687d5907-768e-4de5-b71b-94cd7eed2410",
   "metadata": {},
   "source": [
    "As you have already noticed form the above code, Python has a built in function to print to console. We do not have to import stdio or similar to use print. To print an object (which can be an Integer, Float, String or really any darn thing!!) just pass it into print and the function will attempt to print it!!\n",
    "\n",
    "If the object has a `__str__` method, `print()` will call it to print the object."
   ]
  },
  {
   "cell_type": "code",
   "execution_count": 12,
   "id": "a1314af6-7d0a-4054-a353-766443161a59",
   "metadata": {},
   "outputs": [
    {
     "name": "stdout",
     "output_type": "stream",
     "text": [
      "x: 2.0 y: 3.0\n"
     ]
    }
   ],
   "source": [
    "# We will get to classes later. This example is just to show how to \n",
    "# class can be printed nicely if by implementing __str__ \n",
    "class MyClass:\n",
    "    def __init__(self, x, y):\n",
    "        self.x = x\n",
    "        self.y = y\n",
    "\n",
    "    def __str__(self):\n",
    "        # This method will be called when print is passed a MyClass object\n",
    "        return f\"x: {self.x} y: {self.y}\"\n",
    "\n",
    "m = MyClass(x=2.0, y=3.0)\n",
    "print(m)\n",
    "    "
   ]
  },
  {
   "cell_type": "markdown",
   "id": "40017b4d-3b0e-4fee-8884-91da2a620f83",
   "metadata": {},
   "source": [
    "## Variable Scope"
   ]
  },
  {
   "cell_type": "markdown",
   "id": "1896fd33-dfcf-466a-9111-4ecb91a70dfa",
   "metadata": {},
   "source": [
    "Scope of variables in Python is a little different from C/C++. \n",
    "\n",
    "In Python, variables defined outside any function are considered global. They are accessible from anywhere in the program, including inside functions.\n",
    "\n",
    "In Python, the following constructs create a new scope:\n",
    "\n",
    "* **Functions**: Each function call creates a new local scope. This means that\n",
    "variables defined inside a function are local to that function and cannot be\n",
    "accessed outside it unless explicitly returned or made global using the global\n",
    "keyword\n",
    "\n",
    "* **Nested Functions (Enclosing Scope)**: When a function is defined inside another\n",
    "function, it creates an enclosing scope. The inner function can access\n",
    "variables from the outer function's scope using the nonlocal keyword if needed\n",
    "\n",
    "* **Class Definitions**: While classes themselves do not create a new scope in the\n",
    "same way functions do, they do create a new namespace. Assignments to\n",
    "variables within a class definition go into this namespace, which is\n",
    "essentially the class's local scope. However, this is more about namespace\n",
    "management than traditional scope creation.\n",
    "\n",
    "* **Modules**: Each module has its own global scope. Variables defined at the top\n",
    "level of a module are global to that module but not to other modules unless\n",
    "imported\n",
    "\n",
    "The following constructs do not create a new scope:\n",
    "\n",
    "* **If-Else Statements**: These do not create a new scope; variables defined within\n",
    "them are accessible outside the block\n",
    "\n",
    "* **For Loops**: Like if-else statements, for loops do not create a new scope;\n",
    "variables defined inside them are accessible outside the loop\n",
    "\n",
    "* **While Loops**: Similar to for loops, while loops do not create a new scope\n",
    "\n"
   ]
  },
  {
   "cell_type": "markdown",
   "id": "3f3bd734-3d53-4162-ba78-db424175df60",
   "metadata": {},
   "source": [
    "Here is an example of a global variable in Python. Of course, using globals is not recommended. This is just to illustrate the example of scope."
   ]
  },
  {
   "cell_type": "code",
   "execution_count": 5,
   "id": "3b69a3f4-b14b-444b-9f9f-4387be94b3e0",
   "metadata": {},
   "outputs": [
    {
     "name": "stdout",
     "output_type": "stream",
     "text": [
      "3.414\n"
     ]
    }
   ],
   "source": [
    "# NOTE: Python is a dynamically typed language. Variables do not require their type \n",
    "# to be specified. They just take on the type of the value that is assigned to them!\n",
    "# The type specification used in the example code here is a \"type hint\". This is used \n",
    "# communicate the programmer's intent to smart IDEs and linters. The linters/IDEs will\n",
    "# flag warnings if there is violation. One popular such linting tool is PyLance\n",
    "var1: float = 3.414 # var1 is a global and visible throughout the file\n",
    "\n",
    "def func1():\n",
    "    print(var1) # var1 is a global and visible throughout the file\n",
    "func1()"
   ]
  },
  {
   "cell_type": "markdown",
   "id": "53cc7db8-ee9b-40d0-b162-c92861403ac2",
   "metadata": {},
   "source": [
    "When you assign a value to a variable with the same name as a global variable, but do so inside a function, the global variable becomes \"shadowed\" by the local variable. This means that within the function, any references to that variable name will point to the local variable, not the global one, similar to how local variables work in languages like C/C"
   ]
  },
  {
   "cell_type": "code",
   "execution_count": 4,
   "id": "6c5c84b1-def2-484b-a1fc-274ed281e54b",
   "metadata": {},
   "outputs": [
    {
     "name": "stdout",
     "output_type": "stream",
     "text": [
      "100\n"
     ]
    }
   ],
   "source": [
    "var1: float = 3.414 # var1 is a global and visible throughout the file\n",
    "def shadow_var1():\n",
    "    # Defining a var1 within the function will create a local var1 and the\n",
    "    # global version is no longer accessible\n",
    "    var1 = 100\n",
    "    print(var1)\n",
    "shadow_var1()    "
   ]
  },
  {
   "cell_type": "markdown",
   "id": "1eb6b038-8bbf-4429-98fc-ec2415610bdf",
   "metadata": {},
   "source": [
    "Variable shadowing occurs when a local variable has the same name as a global variable. In such cases, any reference to that variable name within the function will point to the local variable, not the global one.\n",
    "\n",
    "\n",
    "In the example below we are shadowing `var1`. But the **executing code will result in an error**.\n",
    "\n",
    "The use of the \"local\" `var1` happens before the first assignment, i.e the definition. The Python interpreter will not interpret the first use of `var1` as using the global version and the second use (the assignment) as a local shadow.\n",
    "\n",
    "In `func2()`, the first line attempts to print var1. However, since var1 is assigned later in the function, Python treats it as a local variable from the start. This means it hasn't been initialized yet when you try to print it, resulting in an error.\n",
    "\n",
    "The error you'll see is something like UnboundLocalError: local variable 'var1' referenced before assignment. This indicates that Python recognizes var1 as a local variable but hasn't been assigned a value yet."
   ]
  },
  {
   "cell_type": "code",
   "execution_count": 11,
   "id": "a265656c-102e-403c-a97d-2339adc76dcc",
   "metadata": {},
   "outputs": [
    {
     "ename": "UnboundLocalError",
     "evalue": "local variable 'var1' referenced before assignment",
     "output_type": "error",
     "traceback": [
      "\u001b[0;31m---------------------------------------------------------------------------\u001b[0m",
      "\u001b[0;31mUnboundLocalError\u001b[0m                         Traceback (most recent call last)",
      "Input \u001b[0;32mIn [11]\u001b[0m, in \u001b[0;36m<cell line: 9>\u001b[0;34m()\u001b[0m\n\u001b[1;32m      6\u001b[0m     \u001b[38;5;28mprint\u001b[39m(var1)\n\u001b[1;32m      7\u001b[0m     var1 \u001b[38;5;241m=\u001b[39m \u001b[38;5;241m4\u001b[39m \n\u001b[0;32m----> 9\u001b[0m \u001b[43mfunc2\u001b[49m\u001b[43m(\u001b[49m\u001b[43m)\u001b[49m\n",
      "Input \u001b[0;32mIn [11]\u001b[0m, in \u001b[0;36mfunc2\u001b[0;34m()\u001b[0m\n\u001b[1;32m      2\u001b[0m \u001b[38;5;28;01mdef\u001b[39;00m \u001b[38;5;21mfunc2\u001b[39m():\n\u001b[1;32m      3\u001b[0m     \u001b[38;5;66;03m# This func will give an error. When you have a global var1 and a local var1\u001b[39;00m\n\u001b[1;32m      4\u001b[0m     \u001b[38;5;66;03m# inside the func, code inside the func only sees the local var1. In this\u001b[39;00m\n\u001b[1;32m      5\u001b[0m     \u001b[38;5;66;03m# case the local var1 is read before assignment\u001b[39;00m\n\u001b[0;32m----> 6\u001b[0m     \u001b[38;5;28mprint\u001b[39m(\u001b[43mvar1\u001b[49m)\n\u001b[1;32m      7\u001b[0m     var1 \u001b[38;5;241m=\u001b[39m \u001b[38;5;241m4\u001b[39m\n",
      "\u001b[0;31mUnboundLocalError\u001b[0m: local variable 'var1' referenced before assignment"
     ]
    }
   ],
   "source": [
    "var1: float = 3.414 # var1 is a global and visible throughout the file\n",
    "def func2():\n",
    "    # This func will give an error. When you have a global var1 and a local var1\n",
    "    # inside the func, code inside the func only sees the local var1. In this\n",
    "    # case the local var1 is read before assignment\n",
    "    print(var1)\n",
    "    var1 = 4 \n",
    "\n",
    "func2()"
   ]
  },
  {
   "cell_type": "markdown",
   "id": "764fa9b4-65af-4133-a788-9fcb5437d98d",
   "metadata": {},
   "source": [
    "We can refer to global variables inside a function using the `global` keyword. \n"
   ]
  },
  {
   "cell_type": "code",
   "execution_count": null,
   "id": "150a652a-8f37-45ab-9f8e-34c5652282f3",
   "metadata": {},
   "outputs": [],
   "source": [
    "def func3():\n",
    "    # Correct way to refer to global var1\n",
    "    global var1 \n",
    "    print(var1) # var1 is a global and visible throughout the file\n",
    "    var1 = 4"
   ]
  }
 ],
 "metadata": {
  "kernelspec": {
   "display_name": "Python 3 (ipykernel)",
   "language": "python",
   "name": "python3"
  },
  "language_info": {
   "codemirror_mode": {
    "name": "ipython",
    "version": 3
   },
   "file_extension": ".py",
   "mimetype": "text/x-python",
   "name": "python",
   "nbconvert_exporter": "python",
   "pygments_lexer": "ipython3",
   "version": "3.10.13"
  }
 },
 "nbformat": 4,
 "nbformat_minor": 5
}
