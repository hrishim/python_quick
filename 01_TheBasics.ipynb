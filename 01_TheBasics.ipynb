{
 "cells": [
  {
   "cell_type": "markdown",
   "id": "790ca97e-65a0-4a6d-b05d-d781852e7891",
   "metadata": {},
   "source": [
    "# The Basics"
   ]
  },
  {
   "cell_type": "markdown",
   "id": "3f3b24fe-63fb-4e4f-a58f-bb738801d450",
   "metadata": {},
   "source": [
    "Python is a dynamically typed language. This means that the data type of a variable is determined at runtime, not at compile time. Unlike statically typed languages like C/C++, where the type of a variable must be declared before use, Python allows variables to be assigned different types of values during execution without explicit type declarations. Depending on the situation, this can be a boon or a curse.\n",
    "\n",
    "Python is an interpreted language which means no long compile times, but slower run times. Also, since there is no static compilation, all errors will be found only at run time. This includes simple syntax errors and typos. There are linters that can do static analysis of the code to point potential errors. Linters seem to be the standard tool Python programmers use.\n",
    "\n",
    "Two popular linters are PyLance and ESLint."
   ]
  },
  {
   "cell_type": "markdown",
   "id": "6b4afe36-4b8e-4a4a-b453-fa6281b4baf8",
   "metadata": {},
   "source": [
    "## Printing Stuff"
   ]
  },
  {
   "cell_type": "code",
   "execution_count": 27,
   "id": "a9922b20-ef40-40cf-8c08-f521f70b8b5f",
   "metadata": {},
   "outputs": [
    {
     "name": "stdout",
     "output_type": "stream",
     "text": [
      "10\n",
      "Hello World\n"
     ]
    }
   ],
   "source": [
    "var = 10  # var is an integer\n",
    "print(var)\n",
    "var = \"Hello World\"  # var is now a string\n",
    "print(var)"
   ]
  },
  {
   "cell_type": "markdown",
   "id": "687d5907-768e-4de5-b71b-94cd7eed2410",
   "metadata": {},
   "source": [
    "As you have already noticed form the above code, Python has a built in function to print to console. We do not have to import stdio or similar to use print. To print an object (which can be an Integer, Float, String or really any darn thing!!) just pass it into print and the function will attempt to print it!!\n",
    "\n",
    "If the object has a `__str__` method, `print()` will call it to print the object."
   ]
  },
  {
   "cell_type": "code",
   "execution_count": 12,
   "id": "a1314af6-7d0a-4054-a353-766443161a59",
   "metadata": {},
   "outputs": [
    {
     "name": "stdout",
     "output_type": "stream",
     "text": [
      "x: 2.0 y: 3.0\n"
     ]
    }
   ],
   "source": [
    "# We will get to classes later. This example is just to show how to \n",
    "# class can be printed nicely if by implementing __str__ \n",
    "class MyClass:\n",
    "    def __init__(self, x, y):\n",
    "        self.x = x\n",
    "        self.y = y\n",
    "\n",
    "    def __str__(self):\n",
    "        # This method will be called when print is passed a MyClass object\n",
    "        return f\"x: {self.x} y: {self.y}\"\n",
    "\n",
    "m = MyClass(x=2.0, y=3.0)\n",
    "print(m)\n",
    "    "
   ]
  },
  {
   "cell_type": "markdown",
   "id": "e6b34e10-ab81-4dba-969e-39124b7541fa",
   "metadata": {},
   "source": [
    "## Basic Data Types"
   ]
  },
  {
   "cell_type": "markdown",
   "id": "afff7fb1-ca47-4cb0-9607-d812cbfcf431",
   "metadata": {},
   "source": [
    "Python supports several built-in data types, each serving different purposes:\n",
    "\n",
    "**Integers (int)**: Whole numbers, e.g., 1, -5.\n",
    "\n",
    "**Floats (float)**: Decimal numbers, e.g., 3.14, -0.5.\n",
    "\n",
    "**Complex Numbers (complex)**: Numbers with real and imaginary parts, e.g., 3 + 4j.\n",
    "\n",
    "**Strings (str)**: Sequences of characters, e.g., \"Hello\", 'World'.\n",
    "\n",
    "**Lists (list)**: Ordered, mutable collections that can contain heterogeneous data (e.g., integers, strings), e.g., `[1, \"two\", 3.0]`.\n",
    "\n",
    "**Tuples (tuple)**: Ordered, immutable collections that can also contain heterogeneous data, e.g., `(1, \"two\", 3.0)`.\n",
    "\n",
    "**Dictionaries (dict)**: Unordered collections of key-value pairs, e.g., `{\"name\": \"Alice\", \"age\": 30}`.\n",
    "\n",
    "**Sets (set)**: Unordered collections of unique items, e.g., {1, 2, 3}.\n",
    "\n",
    "**Frozensets (frozenset)**: Immutable sets, e.g., `frozenset([1][2][3])`.\n",
    "\n",
    "**Boolean (bool)**: Logical values, either True or False.\n",
    "\n",
    "**Bytes (bytes)**: Immutable sequences of integers in the range 0 <= x < 256, e.g., b'Hello'.\n",
    "\n",
    "**Bytearray (bytearray)**: Mutable sequences of integers in the range 0 <= x < 256.\n",
    "\n",
    "**NoneType (NoneType)**: Represents the absence of a value, denoted by None."
   ]
  },
  {
   "cell_type": "code",
   "execution_count": 21,
   "id": "6d2ee98c-d53f-4988-8191-2b7fc5dc97a0",
   "metadata": {},
   "outputs": [
    {
     "name": "stdout",
     "output_type": "stream",
     "text": [
      "10 <class 'int'>\n",
      "10.5 <class 'float'>\n",
      "(3+4j) <class 'complex'>\n",
      "Hello, World! <class 'str'>\n",
      "True <class 'bool'>\n",
      "[1, 2, 3, 'Python'] <class 'list'>\n",
      "(1, 2, 'c') <class 'tuple'>\n",
      "{'name': 'Alice', 'age': 25} <class 'dict'>\n",
      "{1, 2, 3} <class 'set'>\n",
      "None <class 'NoneType'>\n"
     ]
    }
   ],
   "source": [
    "# Integers\n",
    "x = 10\n",
    "print(x, type(x))  # Output: 10 <class 'int'>\n",
    "\n",
    "# Floating point\n",
    "y = 10.5\n",
    "print(y, type(y))  # Output: 10.5 <class 'float'>\n",
    "\n",
    "# Complex numbers!!\n",
    "z = 3 + 4j\n",
    "print(z, type(z))  # Output: (3+4j) <class 'complex'>\n",
    "\n",
    "# Strings\n",
    "s = \"Hello, World!\"\n",
    "print(s, type(s))  # Output: Hello, World! <class 'str'>\n",
    "\n",
    "# Boolean: Represents truth values (True or False).\n",
    "is_active = True\n",
    "print(is_active, type(is_active))  # Output: True <class 'bool'>\n",
    "\n",
    "# List: A mutable sequence of items.\n",
    "my_list = [1, 2, 3, \"Python\"]\n",
    "print(my_list, type(my_list))  # Output: [1, 2, 3, 'Python'] <class 'list'>\n",
    "\n",
    "# Tuple: An immutable sequence of items\n",
    "my_tuple = (1, 2, \"c\")\n",
    "print(my_tuple, type(my_tuple))  # Output: (1, 2, 3) <class 'tuple'>\n",
    "\n",
    "# Dictionary: A collection of key-value pairs.\n",
    "my_dict = {\"name\": \"Alice\", \"age\": 25}\n",
    "print(my_dict, type(my_dict))  # Output: {'name': 'Alice', 'age': 25} <class 'dict'>\n",
    "\n",
    "# Set: A collection of unique items.\n",
    "my_set = {1, 2, 3}\n",
    "print(my_set, type(my_set))  # Output: {1, 2, 3} <class 'set'>\n",
    "\n",
    "# NoneType: Represents the absence of a value\n",
    "my_var = None\n",
    "print(my_var, type(my_var))  # Output: None <class 'NoneType'>"
   ]
  },
  {
   "cell_type": "markdown",
   "id": "afe905c5-28da-4767-b943-1769e003a2ee",
   "metadata": {},
   "source": [
    "**FrozenSets** in Python are immutable versions of sets. They are unordered collections of unique elements, meaning they cannot contain duplicate values. Once a frozenset is created, it cannot be modified by adding or removing elements.\n",
    "\n",
    "* Immutability: FrozenSets are immutable, which makes them suitable for use as keys in dictionaries or as elements of other sets\n",
    "* Unordered: The elements in a frozenset do not have a specific order\n",
    "* Hashable: Because they are immutable, frozenset objects are hashable, allowing them to be used in contexts where mutable sets cannot."
   ]
  },
  {
   "cell_type": "code",
   "execution_count": 23,
   "id": "ed1f380f-b0bc-4447-a304-f8aabf7a8404",
   "metadata": {},
   "outputs": [
    {
     "name": "stdout",
     "output_type": "stream",
     "text": [
      "frozenset({1, 2, 3})\n",
      "FrozenSets are immutable.\n"
     ]
    }
   ],
   "source": [
    "# Creating a frozenset from a list\n",
    "my_list = [1, 2, 3, 2, 1]\n",
    "frozen_set = frozenset(my_list)\n",
    "print(frozen_set)  # Output: frozenset({1, 2, 3})\n",
    "\n",
    "# Attempting to modify a frozenset will result in an error\n",
    "try:\n",
    "    frozen_set.add(4)\n",
    "except AttributeError:\n",
    "    print(\"FrozenSets are immutable.\")"
   ]
  },
  {
   "cell_type": "markdown",
   "id": "3e50fa74-38a6-4e00-aa06-821599ad1223",
   "metadata": {},
   "source": [
    "**NoneType** in Python represents the absence of a value. In C/C++, there is no direct equivalent to Python's None. However, NULL (or nullptr in C++11) is often used to represent the absence of a value, particularly for pointers. For non-pointer types, special values like 0 or -1 might be used depending on the context.\n",
    "\n",
    "In Swift, nil is used to represent the absence of a value for optional types. "
   ]
  },
  {
   "cell_type": "markdown",
   "id": "40017b4d-3b0e-4fee-8884-91da2a620f83",
   "metadata": {},
   "source": [
    "## Variable Scope"
   ]
  },
  {
   "cell_type": "markdown",
   "id": "1896fd33-dfcf-466a-9111-4ecb91a70dfa",
   "metadata": {},
   "source": [
    "Scope of variables in Python is a little different from C/C++. \n",
    "\n",
    "In Python, variables defined outside any function are considered global. They are accessible from anywhere in the program, including inside functions.\n",
    "\n",
    "In Python, the following constructs create a new scope:\n",
    "\n",
    "* **Functions**: Each function call creates a new local scope. This means that\n",
    "variables defined inside a function are local to that function and cannot be\n",
    "accessed outside it unless explicitly returned or made global using the global\n",
    "keyword\n",
    "\n",
    "* **Nested Functions (Enclosing Scope)**: When a function is defined inside another\n",
    "function, it creates an enclosing scope. The inner function can access\n",
    "variables from the outer function's scope using the nonlocal keyword if needed\n",
    "\n",
    "* **Class Definitions**: While classes themselves do not create a new scope in the\n",
    "same way functions do, they do create a new namespace. Assignments to\n",
    "variables within a class definition go into this namespace, which is\n",
    "essentially the class's local scope. However, this is more about namespace\n",
    "management than traditional scope creation.\n",
    "\n",
    "* **Modules**: Each module has its own global scope. Variables defined at the top\n",
    "level of a module are global to that module but not to other modules unless\n",
    "imported\n",
    "\n",
    "The following constructs do not create a new scope:\n",
    "\n",
    "* **If-Else Statements**: These do not create a new scope; variables defined within\n",
    "them are accessible outside the block\n",
    "\n",
    "* **For Loops**: Like if-else statements, for loops do not create a new scope;\n",
    "variables defined inside them are accessible outside the loop\n",
    "\n",
    "* **While Loops**: Similar to for loops, while loops do not create a new scope\n",
    "\n"
   ]
  },
  {
   "cell_type": "markdown",
   "id": "3f3bd734-3d53-4162-ba78-db424175df60",
   "metadata": {},
   "source": [
    "Here is an example of a global variable in Python. Of course, using globals is not recommended. This is just to illustrate the example of scope."
   ]
  },
  {
   "cell_type": "code",
   "execution_count": 5,
   "id": "3b69a3f4-b14b-444b-9f9f-4387be94b3e0",
   "metadata": {},
   "outputs": [
    {
     "name": "stdout",
     "output_type": "stream",
     "text": [
      "3.414\n"
     ]
    }
   ],
   "source": [
    "# NOTE: Python is a dynamically typed language. Variables do not require their type \n",
    "# to be specified. They just take on the type of the value that is assigned to them!\n",
    "# The type specification used in the example code here is a \"type hint\". This is used \n",
    "# communicate the programmer's intent to smart IDEs and linters. The linters/IDEs will\n",
    "# flag warnings if there is violation. One popular such linting tool is PyLance\n",
    "var1: float = 3.414 # var1 is a global and visible throughout the file\n",
    "\n",
    "def func1():\n",
    "    print(var1) # var1 is a global and visible throughout the file\n",
    "func1()"
   ]
  },
  {
   "cell_type": "markdown",
   "id": "53cc7db8-ee9b-40d0-b162-c92861403ac2",
   "metadata": {},
   "source": [
    "When you assign a value to a variable with the same name as a global variable, but do so inside a function, the global variable becomes \"shadowed\" by the local variable. This means that within the function, any references to that variable name will point to the local variable, not the global one, similar to how local variables work in languages like C/C"
   ]
  },
  {
   "cell_type": "code",
   "execution_count": 4,
   "id": "6c5c84b1-def2-484b-a1fc-274ed281e54b",
   "metadata": {},
   "outputs": [
    {
     "name": "stdout",
     "output_type": "stream",
     "text": [
      "100\n"
     ]
    }
   ],
   "source": [
    "var1: float = 3.414 # var1 is a global and visible throughout the file\n",
    "def shadow_var1():\n",
    "    # Defining a var1 within the function will create a local var1 and the\n",
    "    # global version is no longer accessible\n",
    "    var1 = 100\n",
    "    print(var1)\n",
    "shadow_var1()    "
   ]
  },
  {
   "cell_type": "markdown",
   "id": "1eb6b038-8bbf-4429-98fc-ec2415610bdf",
   "metadata": {},
   "source": [
    "Variable shadowing occurs when a local variable has the same name as a global variable. In such cases, any reference to that variable name within the function will point to the local variable, not the global one.\n",
    "\n",
    "\n",
    "In the example below we are shadowing `var1`. But the **executing code will result in an error**.\n",
    "\n",
    "The use of the \"local\" `var1` happens before the first assignment, i.e the definition. The Python interpreter will not interpret the first use of `var1` as using the global version and the second use (the assignment) as a local shadow.\n",
    "\n",
    "In `func2()`, the first line attempts to print var1. However, since var1 is assigned later in the function, Python treats it as a local variable from the start. This means it hasn't been initialized yet when you try to print it, resulting in an error.\n",
    "\n",
    "The error you'll see is something like UnboundLocalError: local variable 'var1' referenced before assignment. This indicates that Python recognizes var1 as a local variable but hasn't been assigned a value yet."
   ]
  },
  {
   "cell_type": "code",
   "execution_count": 11,
   "id": "a265656c-102e-403c-a97d-2339adc76dcc",
   "metadata": {},
   "outputs": [
    {
     "ename": "UnboundLocalError",
     "evalue": "local variable 'var1' referenced before assignment",
     "output_type": "error",
     "traceback": [
      "\u001b[0;31m---------------------------------------------------------------------------\u001b[0m",
      "\u001b[0;31mUnboundLocalError\u001b[0m                         Traceback (most recent call last)",
      "Input \u001b[0;32mIn [11]\u001b[0m, in \u001b[0;36m<cell line: 9>\u001b[0;34m()\u001b[0m\n\u001b[1;32m      6\u001b[0m     \u001b[38;5;28mprint\u001b[39m(var1)\n\u001b[1;32m      7\u001b[0m     var1 \u001b[38;5;241m=\u001b[39m \u001b[38;5;241m4\u001b[39m \n\u001b[0;32m----> 9\u001b[0m \u001b[43mfunc2\u001b[49m\u001b[43m(\u001b[49m\u001b[43m)\u001b[49m\n",
      "Input \u001b[0;32mIn [11]\u001b[0m, in \u001b[0;36mfunc2\u001b[0;34m()\u001b[0m\n\u001b[1;32m      2\u001b[0m \u001b[38;5;28;01mdef\u001b[39;00m \u001b[38;5;21mfunc2\u001b[39m():\n\u001b[1;32m      3\u001b[0m     \u001b[38;5;66;03m# This func will give an error. When you have a global var1 and a local var1\u001b[39;00m\n\u001b[1;32m      4\u001b[0m     \u001b[38;5;66;03m# inside the func, code inside the func only sees the local var1. In this\u001b[39;00m\n\u001b[1;32m      5\u001b[0m     \u001b[38;5;66;03m# case the local var1 is read before assignment\u001b[39;00m\n\u001b[0;32m----> 6\u001b[0m     \u001b[38;5;28mprint\u001b[39m(\u001b[43mvar1\u001b[49m)\n\u001b[1;32m      7\u001b[0m     var1 \u001b[38;5;241m=\u001b[39m \u001b[38;5;241m4\u001b[39m\n",
      "\u001b[0;31mUnboundLocalError\u001b[0m: local variable 'var1' referenced before assignment"
     ]
    }
   ],
   "source": [
    "var1: float = 3.414 # var1 is a global and visible throughout the file\n",
    "def func2():\n",
    "    # This func will give an error. When you have a global var1 and a local var1\n",
    "    # inside the func, code inside the func only sees the local var1. In this\n",
    "    # case the local var1 is read before assignment\n",
    "    print(var1)\n",
    "    var1 = 4 \n",
    "\n",
    "func2()"
   ]
  },
  {
   "cell_type": "markdown",
   "id": "764fa9b4-65af-4133-a788-9fcb5437d98d",
   "metadata": {},
   "source": [
    "When you want to access or modify a global variable inside a function, you need to tell Python that you're referring to the global variable, not creating a new local one. This is where the `global` keyword comes in.\n"
   ]
  },
  {
   "cell_type": "code",
   "execution_count": 14,
   "id": "150a652a-8f37-45ab-9f8e-34c5652282f3",
   "metadata": {},
   "outputs": [
    {
     "name": "stdout",
     "output_type": "stream",
     "text": [
      "3.414\n",
      "4\n"
     ]
    }
   ],
   "source": [
    "var1 = 3.414\n",
    "def func3():\n",
    "    # Correct way to refer to global var1\n",
    "    global var1 \n",
    "    print(var1) # var1 is a global and visible throughout the file\n",
    "    var1 = 4\n",
    "\n",
    "func3()\n",
    "print(var1)"
   ]
  },
  {
   "cell_type": "code",
   "execution_count": 18,
   "id": "f18f7589-c824-4ca0-836f-b36d3ffbeb3f",
   "metadata": {},
   "outputs": [
    {
     "name": "stdout",
     "output_type": "stream",
     "text": [
      "3.414\n"
     ]
    }
   ],
   "source": [
    "# Global vars can be accessed from within class methods also.\n",
    "# Oh yeah, we have not yet discussed classes but if you have \n",
    "# seen a class in C++ this should be familiar\n",
    "var1 = 3.414\n",
    "class TestClass:\n",
    "    def __init__(self):\n",
    "        global var1\n",
    "        self.var1 = var1\n",
    "        var1 = 43\n",
    "\n",
    "tc = TestClass()\n",
    "print(tc.var1)"
   ]
  },
  {
   "cell_type": "markdown",
   "id": "0362acad-2443-4ffb-bb2d-6c264c205b92",
   "metadata": {},
   "source": [
    "## Control Flow"
   ]
  },
  {
   "cell_type": "markdown",
   "id": "1d7dd54d-90c5-4e2a-81f1-4874e5d5f5e0",
   "metadata": {},
   "source": [
    "Here are all of the control flow statements in Python. Note that there are no curly braces to indicate the start and end of a control block. Other points to note are\n",
    "\n",
    "* All control statements end in colon `:`\n",
    "* Control blocks are defined by indentation, not curly braces. The block of code inside a control statement **must** be indented. Indentation in Python is NOT optional to make code pretty. It is a hard requirement. Each line of code inside a block has to be indented by the same amount.\n",
    "* When blocks are nested then the indentation depth gets appropriately deeper\n",
    "* Control flow blocks do not restrict scope. Variables defined inside such blocks are accessible outside the block."
   ]
  },
  {
   "cell_type": "code",
   "execution_count": 36,
   "id": "afd9be5d-1fb7-4ab1-affa-1d14665d242f",
   "metadata": {},
   "outputs": [
    {
     "name": "stdout",
     "output_type": "stream",
     "text": [
      "x is greater than 5\n",
      "x is equal to 10\n",
      "Mangoes = 2\n"
     ]
    },
    {
     "ename": "NameError",
     "evalue": "name 'pizza' is not defined",
     "output_type": "error",
     "traceback": [
      "\u001b[0;31m---------------------------------------------------------------------------\u001b[0m",
      "\u001b[0;31mNameError\u001b[0m                                 Traceback (most recent call last)",
      "Input \u001b[0;32mIn [36]\u001b[0m, in \u001b[0;36m<cell line: 20>\u001b[0;34m()\u001b[0m\n\u001b[1;32m     17\u001b[0m \u001b[38;5;28mprint\u001b[39m(\u001b[38;5;124mf\u001b[39m\u001b[38;5;124m\"\u001b[39m\u001b[38;5;124mMangoes = \u001b[39m\u001b[38;5;132;01m{\u001b[39;00mmangoes\u001b[38;5;132;01m}\u001b[39;00m\u001b[38;5;124m\"\u001b[39m) \n\u001b[1;32m     19\u001b[0m \u001b[38;5;66;03m# this line will cause an error because of use of pizza before definition\u001b[39;00m\n\u001b[0;32m---> 20\u001b[0m \u001b[38;5;28mprint\u001b[39m(\u001b[43mpizza\u001b[49m)\n",
      "\u001b[0;31mNameError\u001b[0m: name 'pizza' is not defined"
     ]
    }
   ],
   "source": [
    "# if statement\n",
    "x = 10\n",
    "if x > 5:\n",
    "    print(\"x is greater than 5\")\n",
    "\n",
    "x = 10\n",
    "if x > 10:\n",
    "    pizza = 5\n",
    "    print(\"x is greater than 10\")\n",
    "elif x == 10:\n",
    "    mangoes = 2\n",
    "    print(\"x is equal to 10\")\n",
    "else:\n",
    "    print(\"x is less than 10\")\n",
    "\n",
    "# mangoes is assigned inside an if block but its scope is not limited to that block\n",
    "print(f\"Mangoes = {mangoes}\") \n",
    "\n",
    "# this line will cause an error because of use of pizza before definition\n",
    "print(pizza) "
   ]
  },
  {
   "cell_type": "code",
   "execution_count": 37,
   "id": "01807de9-e2cb-405c-a5cc-e6d889dedb91",
   "metadata": {},
   "outputs": [
    {
     "name": "stdout",
     "output_type": "stream",
     "text": [
      "Value is 1\n"
     ]
    }
   ],
   "source": [
    "# Match statement (equivalent of switch)\n",
    "def check_value(x):\n",
    "    match x:\n",
    "        case 1:\n",
    "            return \"Value is 1\"\n",
    "        case 2:\n",
    "            return \"Value is 2\"\n",
    "        case _:\n",
    "            return \"Value is something else\"\n",
    "print(check_value(1))  # Output: Value is 1\n"
   ]
  },
  {
   "cell_type": "code",
   "execution_count": 38,
   "id": "f5166861-850f-4543-8958-5bc77e6e2e76",
   "metadata": {},
   "outputs": [
    {
     "name": "stdout",
     "output_type": "stream",
     "text": [
      "apple\n",
      "banana\n",
      "cherry\n"
     ]
    }
   ],
   "source": [
    "# For Loop\n",
    "fruits = [\"apple\", \"banana\", \"cherry\"]\n",
    "for fruit in fruits:\n",
    "    print(fruit)"
   ]
  },
  {
   "cell_type": "code",
   "execution_count": 39,
   "id": "47ce667c-46ff-4eb2-8ea3-13e253d33096",
   "metadata": {},
   "outputs": [
    {
     "name": "stdout",
     "output_type": "stream",
     "text": [
      "0\n",
      "1\n",
      "2\n",
      "3\n",
      "4\n"
     ]
    }
   ],
   "source": [
    "# While loop\n",
    "i = 0\n",
    "while i < 5:\n",
    "    print(i)\n",
    "    i += 1"
   ]
  },
  {
   "cell_type": "markdown",
   "id": "dc5d9cef-f0c3-4139-815e-87752a023e44",
   "metadata": {},
   "source": [
    "For loops in Python can be written with syntax very similar to C/C++. However the start, end and increment values are expressed using a special `range(start, end, increment)` function. The end is always non-inclusive. This function returns a *range* object which has the start, end and increment.\n"
   ]
  },
  {
   "cell_type": "code",
   "execution_count": 71,
   "id": "cefc66d4-7824-4961-b451-e94d99d80e39",
   "metadata": {},
   "outputs": [
    {
     "name": "stdout",
     "output_type": "stream",
     "text": [
      "<class 'range'>\n",
      "range(0, 10, 5)\n",
      "\n",
      "[0, 1, 2]\n",
      "\n",
      "This is me\n",
      "This is me\n",
      "\n",
      "0\n",
      "1\n",
      "2\n",
      "\n",
      "0\n",
      "1\n",
      "2\n",
      "4\n"
     ]
    }
   ],
   "source": [
    "print(type(range(0,10,5)))\n",
    "print(range(0,10,5))\n",
    "print()\n",
    "\n",
    "# We can get a list from range using the list() function\n",
    "print(list(range(0,3)))\n",
    "\n",
    "print()\n",
    "\n",
    "for i in range(0, 10, 5):\n",
    "    # Loop body\n",
    "    print(\"This is me\")\n",
    "\n",
    "# C/C++ equivalent\n",
    "#for (int i = 0; i < 10; i += 5) {\n",
    "#    // Loop body\n",
    "#}\n",
    "\n",
    "print()\n",
    "\n",
    "# Break and continue\n",
    "for i in range(5):\n",
    "    if i == 3:\n",
    "        break  # Exit the loop when i is 3\n",
    "    print(i)\n",
    "\n",
    "# Note: if a single argument is supplied to range() that will be the non-inclusive end \n",
    "# value. The start value defaults to 0 and increment to 1.\n",
    "\n",
    "print()\n",
    "\n",
    "for i in range(5):\n",
    "    if i == 3:\n",
    "        continue  # Skip the current iteration when i is 3\n",
    "    print(i)"
   ]
  },
  {
   "cell_type": "markdown",
   "id": "71676247-f608-477a-a808-54bed76dbe48",
   "metadata": {},
   "source": [
    "## Lists, Tuples, Sets and Dictionaries"
   ]
  },
  {
   "cell_type": "markdown",
   "id": "39f2fc41-06e8-4d2c-972a-d815e433efa4",
   "metadata": {},
   "source": [
    "### Lists\n",
    "\n",
    "Lists are sequences of data, much like an array in C/C++ or Swift. They are mutable, \n",
    "ordered, and indexed. In Python, lists can hold heterogeneous values. So a list can \n",
    "contain str, int, float, other lists etc. Here is a set of useful methods in lists\n",
    "\n",
    "| **Method** | **Description** |\n",
    "| --- | --- |\n",
    "| `append()` | Adds an element at the end of the list. |\n",
    "| `clear()` | Removes all elements from the list. |\n",
    "| `copy()` | Returns a shallow copy of the list |\n",
    "| `count()` | Returns the number of occurances of a specified value. |\n",
    "| `extend()` | Adds multiple elements from an *iterable* to the end of the list |\n",
    "| `index()` | Returns the index of the first occurance of a specified value |\n",
    "| `insert()` | Inserts an element at a specified position |\n",
    "| `pop()` | Removes and returns an element at a specified position |\n",
    "| `remove()` | Removes the first occurance of a specified value |\n",
    "| `reverse()` | Reverses the order of the list |\n",
    "| `sort()` | Sorts the list in place |\n",
    "\n",
    "One additional way (other than `pop()`) to remove a item from a list is using `del` as shown in the example below"
   ]
  },
  {
   "cell_type": "code",
   "execution_count": 4,
   "id": "964b85de-def8-45f2-80d6-71beaa7a94de",
   "metadata": {},
   "outputs": [
    {
     "name": "stdout",
     "output_type": "stream",
     "text": [
      "[2, 3, 1, 4]\n",
      "[2, 3, 1, 4, 5, 6]\n",
      "[0, 2, 3, 1, 4, 5, 6]\n",
      "[0, 1, 2, 3, 4, 5, 6]\n",
      "[0, 1, 2, 4, 5, 6]\n",
      "[0, 4, 5, 6]\n"
     ]
    }
   ],
   "source": [
    "# Creating a list\n",
    "my_list = [2, 3, 1]\n",
    "\n",
    "# Append an element\n",
    "my_list.append(4)\n",
    "print(my_list)  # Output: [2, 3, 1, 4]\n",
    "\n",
    "# Extend with multiple elements\n",
    "my_list.extend([5, 6])\n",
    "print(my_list)  # Output: [2, 3, 1, 4, 5, 6]\n",
    "\n",
    "# Insert at a specific position insert(pos, value)\n",
    "my_list.insert(0, 0)\n",
    "print(my_list)  # Output: [0, 2, 3, 1, 4, 5, 6]\n",
    "\n",
    "# Sort the list\n",
    "my_list.sort()\n",
    "print(my_list)  # Output: [0, 1, 2, 3, 4, 5, 6]\n",
    "\n",
    "# remove/delete an item from the list\n",
    "del my_list[3]\n",
    "print(my_list) # Output: [0, 1, 2, 4, 5, 6]\n",
    "\n",
    "# remove/delete multiple items from the list\n",
    "del my_list [1:3]\n",
    "print(my_list) # Output: [0, 4, 5, 6]"
   ]
  },
  {
   "cell_type": "markdown",
   "id": "d88000bf-3b9c-4f20-a7a3-89c20f0230a3",
   "metadata": {},
   "source": [
    "**More List stuff**\n",
    "\n",
    "Here are a few more list related useful things...\n",
    "\n",
    "* Like arrays lists can be indexed\n",
    "* One can also access \"slices\" of a list. Something that one cannot do with *raw* arrays in C/C++. Of course, `std::array` in C++ will allow for many tricks of its own.\n",
    "* Three useful functions that operate on numbers are `len()`, `min()`, and `max()`. Which will give the number of elements in the list, the minimum value and the maximum value. If a list contains heterogeneous data then `min()` and `max()` will throw a `TypeError`.\n",
    "\n",
    "Note that the `len()`, `min()`, and `max()` are not part of the list class. They can be called on any sequence and they do not modify that sequence. In contrast, methods like `append()`, `sort()`, and `reverse()` are part of the list class because they modify the list itself or are closely tied to its internal state. These methods are instance-specific and change the object they are called on.\n"
   ]
  },
  {
   "cell_type": "code",
   "execution_count": 6,
   "id": "ec25c526-443d-4ba9-ae6a-ff63e1ba4ac2",
   "metadata": {},
   "outputs": [
    {
     "name": "stdout",
     "output_type": "stream",
     "text": [
      "0\n",
      "[2, 3, 4]\n",
      "10\n",
      "9\n",
      "0\n",
      "'<' not supported between instances of 'str' and 'int'\n"
     ]
    }
   ],
   "source": [
    "numbers = [0, 1, 2, 3, 4, 5, 6, 7, 8, 9]\n",
    "\n",
    "# Indexing\n",
    "print(numbers[0])  # Output: 0\n",
    "\n",
    "# Slicing\n",
    "print(numbers[2:5])  # Output: [2, 3, 4]\n",
    "\n",
    "# Using list functions\n",
    "print(len(numbers))  # Output: 10\n",
    "print(max(numbers))  # Output: 9\n",
    "print(min(numbers))  # Output: 0\n",
    "\n",
    "# min on a heterogeneous list\n",
    "heterogeneous_list = [1, 'apple', 3, 'banana', 2]\n",
    "try:\n",
    "    print(min(heterogeneous_list))\n",
    "except TypeError as e:\n",
    "    print(e)\n"
   ]
  },
  {
   "cell_type": "markdown",
   "id": "1b651c5d-1929-4707-9276-9b820483fbe0",
   "metadata": {},
   "source": [
    "**List Comprehension**\n",
    "\n",
    "List comprehensions are a concise way to create lists in Python, combining the logic of loops and conditional statements into a single line of code. They exist to simplify code readability and improve performance compared to traditional loops."
   ]
  },
  {
   "cell_type": "code",
   "execution_count": 58,
   "id": "ee7f21d4-c58f-4998-8d91-7be668444e9a",
   "metadata": {},
   "outputs": [
    {
     "name": "stdout",
     "output_type": "stream",
     "text": [
      "[0, 1, 2, 3, 4, 5, 6, 7, 8, 9]\n",
      "[1, 4, 9, 16, 25]\n",
      "[2, 4]\n",
      "['Odd', 'Even', 'Odd', 'Even', 'Odd', 'Even', 'Odd', 'Even', 'Odd', 'Even']\n",
      "['Not Divisible by 2 or 3', 'Divisible by 2', 'Divisible by 3', 'Divisible by 2', 'Not Divisible by 2 or 3', 'Divisible by 2 and 3', 'Not Divisible by 2 or 3', 'Divisible by 2', 'Divisible by 3', 'Divisible by 2']\n",
      "['Odd', 'Even', 'Odd', 'Even', 'Odd', 'Even', 'Odd', 'Even', 'Odd', 'Even']\n"
     ]
    }
   ],
   "source": [
    "# List comprehensions\n",
    "\n",
    "# Create a list using comprehension\n",
    "numbers = [num for num in range(10)]\n",
    "print(numbers)  # Output: [0, 1, 2, 3, 4, 5, 6, 7, 8, 9]\n",
    "\n",
    "# Basic Example: Squaring numbers\n",
    "numbers = [1, 2, 3, 4, 5]\n",
    "squares = [num ** 2 for num in numbers]\n",
    "print(squares)  # Output: [1, 4, 9, 16, 25]\n",
    "\n",
    "# Filtering Example: Even numbers\n",
    "numbers = [1, 2, 3, 4, 5]\n",
    "even_numbers = [num for num in numbers if num % 2 == 0]\n",
    "print(even_numbers)  # Output: [2, 4]\n",
    "\n",
    "# Using if-else in List Comprehensions\n",
    "\n",
    "# Example: Label numbers as 'Even' or 'Odd'\n",
    "numbers = range(1, 11)\n",
    "labels = ['Even' if num % 2 == 0 else 'Odd' for num in numbers]\n",
    "print(labels)  \n",
    "# Output: ['Odd', 'Even', 'Odd', 'Even', 'Odd', 'Even', 'Odd', 'Even', 'Odd', 'Even']\n",
    "\n",
    "# Example: Categorize numbers based on divisibility\n",
    "numbers = range(1, 11)\n",
    "categories = [\n",
    "    'Divisible by 2 and 3' if num % 2 == 0 and num % 3 == 0\n",
    "    else 'Divisible by 2' if num % 2 == 0\n",
    "    else 'Divisible by 3' if num % 3 == 0\n",
    "    else 'Not Divisible by 2 or 3' for num in numbers\n",
    "]\n",
    "print(categories)\n",
    "# Output: ['Not Divisible by 2 or 3', 'Divisible by 2', 'Divisible by 3', \n",
    "# 'Divisible by 2', 'Not Divisible by 2 or 3', 'Divisible by 2 and 3', \n",
    "# 'Not Divisible by 2 or 3', 'Divisible by 2', 'Divisible by 3', 'Divisible by 2']\n",
    "\n",
    "# Example: Label numbers as 'Even' or 'Odd'\n",
    "numbers = range(1, 11)\n",
    "labels = ['Even' if num % 2 == 0 else 'Odd' for num in numbers]\n",
    "print(labels)  \n",
    "# Output: ['Odd', 'Even', 'Odd', 'Even', 'Odd', 'Even', 'Odd', 'Even', 'Odd', 'Even']\n"
   ]
  },
  {
   "cell_type": "markdown",
   "id": "802127de-c3c3-49c9-89f8-87123562468a",
   "metadata": {},
   "source": [
    "### Sets\n",
    "\n",
    "* Sets do not maintain any specific order of their elements. The order in which elements are displayed can vary each time you run the program, depending on the implementation details such as the hash table used internally.\n",
    "* Sets only allow unique elements; duplicates are automatically removed\n",
    "* While sets themselves can be modified by adding or removing elements, the elements within a set must be immutable (e.g., integers, strings, tuples)\n",
    "* Unlike lists or tuples, sets do not support indexing, meaning you cannot access elements by their position\n",
    "* Because a set is unordered we cannot index into a set"
   ]
  },
  {
   "cell_type": "code",
   "execution_count": 9,
   "id": "21a10d71-e8da-49d0-9ad3-3f6277fc0f85",
   "metadata": {},
   "outputs": [
    {
     "name": "stdout",
     "output_type": "stream",
     "text": [
      "1\n",
      "2\n",
      "3\n",
      "{1, 2, 3, 4, 5}\n",
      "\n",
      "{3}\n",
      "\n",
      "{1, 2}\n"
     ]
    }
   ],
   "source": [
    "# Using set() function\n",
    "my_set = set([1, 2, 3, 3, 4])  # Removes duplicates\n",
    "\n",
    "# Using curly brackets\n",
    "my_set = {1, 2, 3, 3, 4}  # Also removes duplicates\n",
    "\n",
    "# Iterating over a set is like iterating over any sequence\n",
    "my_set = {1, 2, 3}\n",
    "for item in my_set:\n",
    "    print(item)\n",
    "\n",
    "# Set operations\n",
    "# Union\n",
    "set1 = {1, 2, 3}\n",
    "set2 = {3, 4, 5}\n",
    "union_set = set1.union(set2)  # {1, 2, 3, 4, 5}\n",
    "print(union_set)\n",
    "print()\n",
    "\n",
    "# Intersection\n",
    "intersection_set = set1.intersection(set2)  # {3}\n",
    "print(intersection_set)\n",
    "print()\n",
    "\n",
    "# Difference\n",
    "difference_set = set1.difference(set2)  # {1, 2}\n",
    "print(difference_set)"
   ]
  },
  {
   "cell_type": "markdown",
   "id": "ad4e2cc5-e14b-476c-984d-8c16ef6de659",
   "metadata": {},
   "source": [
    "### Dictionaries\n",
    "\n",
    "* Dictionaries maintain the order in which key-value pairs were inserted. (In versions before Python 3.7, dictionaries were unordered)\n",
    "* Dictionaries can be modified after creation; you can add, remove, or update key-value pairs\n",
    "* While dictionaries do not use numeric indexes like lists, they are indexed by keys, allowing fast lookup of values associated with specific keys\n",
    "* Each key in a dictionary must be unique. If a duplicate key is assigned, the last assignment overwrites previous ones\n",
    "* Keys must be hashable, meaning they can be immutable types like strings, integers, or tuples"
   ]
  },
  {
   "cell_type": "code",
   "execution_count": 17,
   "id": "e701b984-5f6f-4509-b69b-f13cfe7265d7",
   "metadata": {},
   "outputs": [
    {
     "name": "stdout",
     "output_type": "stream",
     "text": [
      "John\n",
      "{'name': 'John', 'age': 31}\n",
      "{'name': 'John', 'age': 31, 'height': '180cm'}\n",
      "{'name': 'John'}\n",
      "{'name': 'John'}\n",
      "\n",
      "name\n",
      "age\n",
      "\n",
      "John\n",
      "30\n",
      "\n",
      "name: John\n",
      "age: 30\n",
      "{'my_key': ['some_value']}\n"
     ]
    }
   ],
   "source": [
    "# Creating dicts\n",
    "\n",
    "# Using curly brackets\n",
    "my_dict = {\"name\": \"John\", \"age\": 30}\n",
    "\n",
    "# Using dict() constructor\n",
    "my_dict = dict(name=\"John\", age=30)\n",
    "\n",
    "# Accessing a value\n",
    "print(my_dict[\"name\"])  # Output: John\n",
    "\n",
    "# Updating a value - if the key does not exist then a new value will be created\n",
    "my_dict[\"age\"] = 31\n",
    "print(my_dict)  # Output: {'name': 'John', 'age': 31}\n",
    "\n",
    "my_dict[\"height\"] = \"180cm\"\n",
    "print(my_dict)\n",
    "\n",
    "# Removing values using pop or del\n",
    "my_dict = {\"name\": \"John\", \"age\": 30}\n",
    "del my_dict[\"age\"]\n",
    "print(my_dict)  # Output: {'name': 'John'}\n",
    "\n",
    "# Using pop()\n",
    "my_dict = {\"name\": \"John\", \"age\": 30}\n",
    "my_dict.pop(\"age\")\n",
    "print(my_dict)  # Output: {'name': 'John'}\n",
    "\n",
    "print()\n",
    "\n",
    "# Iterating over dict keys\n",
    "my_dict = {\"name\": \"John\", \"age\": 30}\n",
    "for key in my_dict:\n",
    "    print(key)\n",
    "\n",
    "print()\n",
    "\n",
    "# Iterating over values\n",
    "for value in my_dict.values():\n",
    "    print(value)\n",
    "\n",
    "print()\n",
    "\n",
    "# Iterating over key value pairs\n",
    "for key, value in my_dict.items():\n",
    "    print(f\"{key}: {value}\")\n",
    "\n",
    "# Idiomatic way to set a default value if the key does not exist\n",
    "my_dict = {}\n",
    "key_to_check = \"my_key\"\n",
    "my_dict.setdefault(key_to_check, []).append(\"some_value\")\n",
    "print(my_dict)"
   ]
  },
  {
   "cell_type": "markdown",
   "id": "bd3443aa-d68c-4b1c-b2b0-bb77c34777f7",
   "metadata": {},
   "source": [
    "There is a subclass of dict called `defaultdict` is a subclass of the built-in dict class in Python, specifically designed to handle missing keys by automatically creating them with a default value when accessed or modified. This is achieved by overriding the `__missing__()` method and adding a default_factory attribute.\n",
    "\n",
    "`defaultdict` needs to be imported from the collections module because it is not part of the standard Python namespace. This is a design choice to keep the core language minimal while providing additional functionality through modules\n",
    "\n",
    "While defaultdict inherits most of the behavior from dict, there are key differences:\n",
    "\n",
    "`defaultdict(list)` automatically initializes any missing key with an empty list, so you don't need to explicitly check for key existence before appending values.\n",
    "\n",
    "defaultdict requires specifying the default_factory during initialization, which can be a function like int() or list() but not their results \n",
    "\n",
    "In this line `my_dict = defaultdict(list)` the *list* passed to defaultdict is a callable (a function that can be called). In this context, list refers to the list constructor, not an instance of a list. You should not call it with parentheses (list()), as that would pass an instance of a list instead of the constructor itself.\n",
    "\n",
    "The `default_factory` attribute of defaultdict is set to `list`. This means whenever you try to access or modify a key that does not exist in my_dict, Python will automatically create a new key-value pair where the value is an empty list created by calling `list()`"
   ]
  },
  {
   "cell_type": "code",
   "execution_count": 19,
   "id": "c05f3840-ca6b-438e-850f-610fbec4791b",
   "metadata": {},
   "outputs": [
    {
     "name": "stdout",
     "output_type": "stream",
     "text": [
      "defaultdict(<class 'list'>, {'my_key': ['some_value']})\n",
      "0\n",
      "1\n",
      "5\n",
      "\n",
      "1\n"
     ]
    }
   ],
   "source": [
    "from collections import defaultdict\n",
    "\n",
    "my_dict = defaultdict(list)\n",
    "\n",
    "# Create a defaultdict with int list the default factory\n",
    "key_to_check = \"my_key\"\n",
    "\n",
    "my_dict[key_to_check].append(\"some_value\")\n",
    "\n",
    "print(my_dict)\n",
    "\n",
    "# Create a defaultdict with int as the default factory\n",
    "my_dict = defaultdict(int)\n",
    "# Accessing a missing key will return 0\n",
    "print(my_dict['missing_key'])  # Output: 0\n",
    "# You can increment the value for a key\n",
    "my_dict['existing_key'] += 1\n",
    "print(my_dict['existing_key'])  # Output: 1\n",
    "# You can also assign any integer value directly\n",
    "my_dict['another_key'] = 5\n",
    "print(my_dict['another_key'])  # Output: 5\n",
    "\n",
    "print()\n",
    "\n",
    "# Make the default value something specific using a labda function.\n",
    "my_dict = defaultdict(lambda: 1)\n",
    "print(my_dict['missing_key'])  # Output: 1"
   ]
  },
  {
   "cell_type": "markdown",
   "id": "803ca0f9-f5c1-4ca5-84c8-6b6b66598d8f",
   "metadata": {},
   "source": [
    "## Functions"
   ]
  },
  {
   "cell_type": "markdown",
   "id": "49b3174c-31cc-4722-8967-2206b3878433",
   "metadata": {},
   "source": [
    "In Python, a function is defined using the def keyword followed by the function name and parameters in parentheses. The function body is indented and contains the code to be executed. The return type is not explicitly specified in the function definition, but you can use type hints to indicate what type of value the function returns. (More on type hints later.)\n",
    "\n",
    "Python does not enforce parameter types at compile time. You can pass objects of any type to a function parameter. Python is dynamically typed, meaning it checks types at runtime rather than compile time. This allows flexibility but requires careful handling to avoid type-related errors\n",
    "\n",
    "In this particular case passing a int or a float does not cause the program to crash because the print function knows how to print almost all types."
   ]
  },
  {
   "cell_type": "code",
   "execution_count": 77,
   "id": "13f057c0-0869-49c6-b9d4-dd87e934e57f",
   "metadata": {},
   "outputs": [
    {
     "name": "stdout",
     "output_type": "stream",
     "text": [
      "Hello, hrishim!\n",
      "Hello, 3!\n",
      "Hello, True!\n",
      "Hello, [3, 6, 3]!\n"
     ]
    }
   ],
   "source": [
    "def greet(name):\n",
    "    print(f\"Hello, {name}!\")\n",
    "\n",
    "# Calling the function\n",
    "greet(\"hrishim\")\n",
    "greet(3)\n",
    "greet(True)\n",
    "aList = [3,6,3]\n",
    "greet(aList)"
   ]
  },
  {
   "cell_type": "markdown",
   "id": "16b3b587-d983-4396-bb75-9ee77a34b64b",
   "metadata": {},
   "source": [
    "Function parameters are more interesting. Just like in C/C++ in Python functions parameters can have default values. Functions can have variable number of arguments. But, wait...it gets even better. Functions can even have a variable number of named arguments!!\n",
    "\n",
    "Strictly speaking, the term *parameters* refers to variables defined in the function definition. *Arguments* are the values passed to the function when it is called. In practice the terms are often used interchangeably. \n",
    "\n",
    "In the example below, the function takes one required argument (`name`), one optional argument (`msg`) which takes a default value of *Hello* if not provided, then one list of arbitrary positional arguments (*args), and one list of arbitrary keyword arguments (**kwargs).\n",
    "\n",
    "***args** allows a function to accept any number of positional arguments. These arguments are collected into a tuple called args. \n",
    "\n",
    "****kwargs** allows a function to accept any number of keyword arguments. These arguments are collected into a dictionary called kwargs. The kwargs parameter must be defined after any args parameter.\n",
    "\n",
    "If one wants to pass additional positional arguments it seems one cannot avoid having to specify the optional argument also. If this is not the case please correct me. But I see no way to do so."
   ]
  },
  {
   "cell_type": "code",
   "execution_count": 87,
   "id": "8315ae8a-a2c6-41fb-98aa-9abdeb5e8b51",
   "metadata": {},
   "outputs": [
    {
     "name": "stdout",
     "output_type": "stream",
     "text": [
      "Hi, Bob!\n",
      "args\n",
      "How are you?\n",
      "kwargs\n",
      "age: 30\n",
      "city: New York\n",
      "\n",
      "Hello, Jane!\n",
      "args\n",
      "kwargs\n",
      "\n",
      "Hello, Tarzan!\n",
      "args\n",
      "kwargs\n",
      "age: 30\n",
      "city: New York\n"
     ]
    }
   ],
   "source": [
    "# name - required argument\n",
    "# msg - optional argument, has a default value\n",
    "# *args - variable positional arguments\n",
    "# **kwards - variable named arguments\n",
    "\n",
    "def greet(name, msg=\"Hello\", *args, **kwargs):\n",
    "    print(f\"{msg}, {name}!\")\n",
    "    print(\"args\")\n",
    "    for arg in args:\n",
    "        print(arg)\n",
    "    print(\"kwargs\")\n",
    "    for key, value in kwargs.items():\n",
    "        print(f\"{key}: {value}\")\n",
    "\n",
    "# Calling the function\n",
    "greet(\"Bob\", \"Hi\", \"How are you?\", age=30, city=\"New York\")\n",
    "print()\n",
    "\n",
    "# Calling the function with just the required argument\n",
    "greet(\"Jane\")\n",
    "print()\n",
    "\n",
    "# Calling the function with required argument and kwargs\n",
    "greet(\"Tarzan\", age=30, city=\"New York\")"
   ]
  },
  {
   "cell_type": "markdown",
   "id": "10e92715-95d1-470c-b578-5a26efc03ddd",
   "metadata": {},
   "source": [
    "The single and double asterisks above are used as function parameters to indicate variable positional and keyword arguments. However, they can also be used as attributes in a function call where they take a different meaning.\n",
    "\n",
    "When calling a function, the asterisk can also be used to unpack iterables (like lists or tuples) into positional arguments, and dictionaries into keyword arguments."
   ]
  },
  {
   "cell_type": "code",
   "execution_count": null,
   "id": "3c594d54-6ce4-461d-827d-bafbc7ecc51b",
   "metadata": {},
   "outputs": [],
   "source": [
    "def greet(name, msg):\n",
    "    print(f\"{msg}, {name}!\")\n",
    "\n",
    "args = [\"John\", \"Hello\"]\n",
    "greet(*args)  # Equivalent to greet(\"John\", \"Hello\")\n"
   ]
  },
  {
   "cell_type": "code",
   "execution_count": 85,
   "id": "9b5528da-e338-4c5a-bf36-82376e35747a",
   "metadata": {},
   "outputs": [
    {
     "name": "stdout",
     "output_type": "stream",
     "text": [
      "Hello, John!\n"
     ]
    }
   ],
   "source": [
    "def greet(name, msg):\n",
    "    print(f\"{msg}, {name}!\")\n",
    "\n",
    "kwargs = {\"name\": \"John\", \"msg\": \"Hello\"}\n",
    "greet(**kwargs)  # Equivalent to greet(name=\"John\", msg=\"Hello\")\n"
   ]
  },
  {
   "cell_type": "code",
   "execution_count": 88,
   "id": "4769c132-ccc0-4be1-bf4e-4dd0aa9458f6",
   "metadata": {},
   "outputs": [
    {
     "name": "stdout",
     "output_type": "stream",
     "text": [
      "12\n"
     ]
    }
   ],
   "source": [
    "# Returning values - of course functions can return values. But there is no need or indeed \n",
    "# a way to specify what they return. \n",
    "\n",
    "def add(a, b):\n",
    "    return a + b\n",
    "\n",
    "result = add(5, 7)\n",
    "print(result)  # Output: 12"
   ]
  },
  {
   "cell_type": "markdown",
   "id": "09594fb8-4c65-43a9-8fd6-dbf5f950b0b4",
   "metadata": {},
   "source": [
    "There is no need for a main function in Python. Code just starts executing from the first line in the file!! However, once can use a main() function this way. However, do note that Python will still execute any code in the same order as it sees in a file. So the print statement before the  `if __name__` block will be executed first. "
   ]
  },
  {
   "cell_type": "code",
   "execution_count": 92,
   "id": "12add85c-71f0-43e1-b840-84dc6bc6ba9a",
   "metadata": {},
   "outputs": [
    {
     "name": "stdout",
     "output_type": "stream",
     "text": [
      "This is the main function.\n"
     ]
    }
   ],
   "source": [
    "# print(\"Got here first\")\n",
    "def main():\n",
    "    print(\"This is the main function.\")\n",
    "\n",
    "if __name__ == \"__main__\":\n",
    "    main()\n",
    "\n",
    "#print(\"Got here after\")"
   ]
  },
  {
   "cell_type": "markdown",
   "id": "cd7423e0-b479-428c-ad4d-cbcfa2ab524c",
   "metadata": {},
   "source": [
    "Okay so what was `__name__` and why are we comparing that with `\"__main__\"`?\n",
    "\n",
    "In Python `__name__` is a built-in variable that holds the name of the module. When a Python script is run directly, meaning it is run from the command line with something like `python your_script.py` then `__name__` is set to `\"__main__\"`. On the other hand, when the script is imported as a module in another script, `__name__` is set to the name of the module.\n",
    "\n",
    "That sets the stage for talking about modules and importing."
   ]
  },
  {
   "cell_type": "markdown",
   "id": "b8db619f-a800-48fd-bd7e-e2bce4ca30f0",
   "metadata": {},
   "source": [
    "## Modules and Imports"
   ]
  },
  {
   "cell_type": "code",
   "execution_count": 93,
   "id": "1ccf969c-a63e-40e2-86bb-a8c3080fba64",
   "metadata": {},
   "outputs": [
    {
     "name": "stdout",
     "output_type": "stream",
     "text": [
      "Code outside main and if block in script1\n",
      "This is the main function in script1.\n"
     ]
    }
   ],
   "source": [
    "import script1\n",
    "\n",
    "# Optionally call main() from script1\n",
    "script1.main()\n"
   ]
  },
  {
   "cell_type": "markdown",
   "id": "6b540044-884f-4a99-b5d6-1e9f2527c571",
   "metadata": {},
   "source": [
    "## Input/Output Operations"
   ]
  },
  {
   "cell_type": "code",
   "execution_count": null,
   "id": "19d11098-06d3-436a-bf09-c03522feb78b",
   "metadata": {},
   "outputs": [],
   "source": []
  },
  {
   "cell_type": "markdown",
   "id": "34520f81-45ae-4af2-9d9f-4e8d5de65ba9",
   "metadata": {},
   "source": [
    "# Callables\n",
    "\n",
    "In Python, several types are callables:\n",
    "* **Functions**: Defined with `def`, these are the most common callables.\n",
    "* **Classes**: Classes are also callables because calling a class creates an instance of it.\n",
    "* **Custom Callable Instances**: Classes can implement the __call__ method to make their instances callable.\n",
    "* **Lambda Functions**: These are small anonymous functions defined with the `lambda` keyword.\n",
    "* **Built-in Functions**: Like `int`, `list`, `dict`, etc., which create instances when called.\n",
    "* **Generator Functions**: Defined using the yield keyword\n",
    "* **Asynchronous Functions**: Defined using the `async def` syntax."
   ]
  },
  {
   "cell_type": "code",
   "execution_count": 22,
   "id": "553d1c13-e3e3-48c2-a93e-bc8c19c7d508",
   "metadata": {},
   "outputs": [
    {
     "name": "stdout",
     "output_type": "stream",
     "text": [
      "My name is Trey\n",
      "\n",
      "True\n",
      "True\n",
      "False\n"
     ]
    }
   ],
   "source": [
    "# Creating custom callable instances\n",
    "\n",
    "# To create a custom callable instance, you need to define a class with a __call__ method. Here's an example\n",
    "\n",
    "class Person:\n",
    "    def __init__(self, name):\n",
    "        self.name = name\n",
    "\n",
    "    def __call__(self):\n",
    "        print(f\"My name is {self.name}\")\n",
    "\n",
    "# Create an instance of Person\n",
    "trey = Person(\"Trey\")\n",
    "\n",
    "# Call the instance\n",
    "trey()  # Output: My name is Trey\n",
    "\n",
    "print()\n",
    "\n",
    "# The callable() function checks if an object is callable. It returns True if the object can be called and False otherwise.\n",
    "\n",
    "def greet(name):\n",
    "    print(f\"Hello, {name}!\")\n",
    "\n",
    "print(callable(greet))  # Output: True\n",
    "\n",
    "class NotCallable:\n",
    "    pass\n",
    "\n",
    "print(callable(NotCallable))  # Output: True (because classes are callable)\n",
    "print(callable(NotCallable()))  # Output: False (because instances of NotCallable are not callable)\n",
    "\n"
   ]
  },
  {
   "cell_type": "markdown",
   "id": "8f4bb4f2-9dc4-44fb-b706-0a3dc79ebef2",
   "metadata": {},
   "source": [
    "**Typing.Callable**\n",
    "In addition to the built-in callable() function, Python's typing module provides typing.Callable, which is used for type annotations to specify that a parameter or return value should be a callable object. In this example, execute_function expects a callable that takes a string and returns nothing (None)."
   ]
  },
  {
   "cell_type": "code",
   "execution_count": 23,
   "id": "17330983-47e0-4297-84f3-b9a8c0006574",
   "metadata": {},
   "outputs": [
    {
     "name": "stdout",
     "output_type": "stream",
     "text": [
      "Hello, Alice!\n"
     ]
    }
   ],
   "source": [
    "from typing import Callable\n",
    "\n",
    "def execute_function(func: Callable[[str], None], name: str):\n",
    "    func(name)\n",
    "\n",
    "def greet(name: str):\n",
    "    print(f\"Hello, {name}!\")\n",
    "\n",
    "execute_function(greet, \"Alice\")  # Output: Hello, Alice!\n"
   ]
  },
  {
   "cell_type": "code",
   "execution_count": null,
   "id": "79b82b8b-5d6b-4a6f-844b-8c3d181301a8",
   "metadata": {},
   "outputs": [],
   "source": []
  }
 ],
 "metadata": {
  "kernelspec": {
   "display_name": "Python 3 (ipykernel)",
   "language": "python",
   "name": "python3"
  },
  "language_info": {
   "codemirror_mode": {
    "name": "ipython",
    "version": 3
   },
   "file_extension": ".py",
   "mimetype": "text/x-python",
   "name": "python",
   "nbconvert_exporter": "python",
   "pygments_lexer": "ipython3",
   "version": "3.10.13"
  }
 },
 "nbformat": 4,
 "nbformat_minor": 5
}
