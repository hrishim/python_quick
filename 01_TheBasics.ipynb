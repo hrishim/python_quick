{
 "cells": [
  {
   "cell_type": "markdown",
   "id": "790ca97e-65a0-4a6d-b05d-d781852e7891",
   "metadata": {},
   "source": [
    "# The Basics"
   ]
  },
  {
   "cell_type": "markdown",
   "id": "3f3b24fe-63fb-4e4f-a58f-bb738801d450",
   "metadata": {},
   "source": [
    "Python is a dynamically typed language. This means that the data type of a variable is determined at runtime, not at compile time. Unlike statically typed languages like C/C++, where the type of a variable must be declared before use, Python allows variables to be assigned different types of values during execution without explicit type declarations. Depending on the situation, this can be a boon or a curse.\n",
    "\n",
    "Python is an interpreted language which means no long compile times, but slower run times. Also, since there is no static compilation, all errors will be found only at run time. This includes simple syntax errors and typos. There are linters that can do static analysis of the code to point potential errors. Linters seem to be the standard tool Python programmers use.\n",
    "\n",
    "Two popular linters are PyLance and ESLint."
   ]
  },
  {
   "cell_type": "markdown",
   "id": "6b4afe36-4b8e-4a4a-b453-fa6281b4baf8",
   "metadata": {},
   "source": [
    "## Printing Stuff"
   ]
  },
  {
   "cell_type": "code",
   "execution_count": 27,
   "id": "a9922b20-ef40-40cf-8c08-f521f70b8b5f",
   "metadata": {},
   "outputs": [
    {
     "name": "stdout",
     "output_type": "stream",
     "text": [
      "10\n",
      "Hello World\n"
     ]
    }
   ],
   "source": [
    "var = 10  # var is an integer\n",
    "print(var)\n",
    "var = \"Hello World\"  # var is now a string\n",
    "print(var)"
   ]
  },
  {
   "cell_type": "markdown",
   "id": "687d5907-768e-4de5-b71b-94cd7eed2410",
   "metadata": {},
   "source": [
    "As you have already noticed form the above code, Python has a built in function to print to console. We do not have to import stdio or similar to use print. To print an object (which can be an Integer, Float, String or really any darn thing!!) just pass it into print and the function will attempt to print it!!\n",
    "\n",
    "If the object has a `__str__` method, `print()` will call it to print the object."
   ]
  },
  {
   "cell_type": "code",
   "execution_count": 12,
   "id": "a1314af6-7d0a-4054-a353-766443161a59",
   "metadata": {},
   "outputs": [
    {
     "name": "stdout",
     "output_type": "stream",
     "text": [
      "x: 2.0 y: 3.0\n"
     ]
    }
   ],
   "source": [
    "# We will get to classes later. This example is just to show how to \n",
    "# class can be printed nicely if by implementing __str__ \n",
    "class MyClass:\n",
    "    def __init__(self, x, y):\n",
    "        self.x = x\n",
    "        self.y = y\n",
    "\n",
    "    def __str__(self):\n",
    "        # This method will be called when print is passed a MyClass object\n",
    "        return f\"x: {self.x} y: {self.y}\"\n",
    "\n",
    "m = MyClass(x=2.0, y=3.0)\n",
    "print(m)\n",
    "    "
   ]
  },
  {
   "cell_type": "markdown",
   "id": "e6b34e10-ab81-4dba-969e-39124b7541fa",
   "metadata": {},
   "source": [
    "## Basic Data Types"
   ]
  },
  {
   "cell_type": "markdown",
   "id": "afff7fb1-ca47-4cb0-9607-d812cbfcf431",
   "metadata": {},
   "source": [
    "Python supports several built-in data types, each serving different purposes:\n",
    "\n",
    "**Integers (int)**: Whole numbers, e.g., 1, -5.\n",
    "\n",
    "**Floats (float)**: Decimal numbers, e.g., 3.14, -0.5.\n",
    "\n",
    "**Complex Numbers (complex)**: Numbers with real and imaginary parts, e.g., 3 + 4j.\n",
    "\n",
    "**Strings (str)**: Sequences of characters, e.g., \"Hello\", 'World'.\n",
    "\n",
    "**Lists (list)**: Ordered, mutable collections that can contain heterogeneous data (e.g., integers, strings), e.g., `[1, \"two\", 3.0]`.\n",
    "\n",
    "**Tuples (tuple)**: Ordered, immutable collections that can also contain heterogeneous data, e.g., `(1, \"two\", 3.0)`.\n",
    "\n",
    "**Dictionaries (dict)**: Unordered collections of key-value pairs, e.g., `{\"name\": \"Alice\", \"age\": 30}`.\n",
    "\n",
    "**Sets (set)**: Unordered collections of unique items, e.g., {1, 2, 3}.\n",
    "\n",
    "**Frozensets (frozenset)**: Immutable sets, e.g., `frozenset([1][2][3])`.\n",
    "\n",
    "**Boolean (bool)**: Logical values, either True or False.\n",
    "\n",
    "**Bytes (bytes)**: Immutable sequences of integers in the range 0 <= x < 256, e.g., b'Hello'.\n",
    "\n",
    "**Bytearray (bytearray)**: Mutable sequences of integers in the range 0 <= x < 256.\n",
    "\n",
    "**NoneType (NoneType)**: Represents the absence of a value, denoted by None."
   ]
  },
  {
   "cell_type": "code",
   "execution_count": 21,
   "id": "6d2ee98c-d53f-4988-8191-2b7fc5dc97a0",
   "metadata": {},
   "outputs": [
    {
     "name": "stdout",
     "output_type": "stream",
     "text": [
      "10 <class 'int'>\n",
      "10.5 <class 'float'>\n",
      "(3+4j) <class 'complex'>\n",
      "Hello, World! <class 'str'>\n",
      "True <class 'bool'>\n",
      "[1, 2, 3, 'Python'] <class 'list'>\n",
      "(1, 2, 'c') <class 'tuple'>\n",
      "{'name': 'Alice', 'age': 25} <class 'dict'>\n",
      "{1, 2, 3} <class 'set'>\n",
      "None <class 'NoneType'>\n"
     ]
    }
   ],
   "source": [
    "# Integers\n",
    "x = 10\n",
    "print(x, type(x))  # Output: 10 <class 'int'>\n",
    "\n",
    "# Floating point\n",
    "y = 10.5\n",
    "print(y, type(y))  # Output: 10.5 <class 'float'>\n",
    "\n",
    "# Complex numbers!!\n",
    "z = 3 + 4j\n",
    "print(z, type(z))  # Output: (3+4j) <class 'complex'>\n",
    "\n",
    "# Strings\n",
    "s = \"Hello, World!\"\n",
    "print(s, type(s))  # Output: Hello, World! <class 'str'>\n",
    "\n",
    "# Boolean: Represents truth values (True or False).\n",
    "is_active = True\n",
    "print(is_active, type(is_active))  # Output: True <class 'bool'>\n",
    "\n",
    "# List: A mutable sequence of items.\n",
    "my_list = [1, 2, 3, \"Python\"]\n",
    "print(my_list, type(my_list))  # Output: [1, 2, 3, 'Python'] <class 'list'>\n",
    "\n",
    "# Tuple: An immutable sequence of items\n",
    "my_tuple = (1, 2, \"c\")\n",
    "print(my_tuple, type(my_tuple))  # Output: (1, 2, 3) <class 'tuple'>\n",
    "\n",
    "# Dictionary: A collection of key-value pairs.\n",
    "my_dict = {\"name\": \"Alice\", \"age\": 25}\n",
    "print(my_dict, type(my_dict))  # Output: {'name': 'Alice', 'age': 25} <class 'dict'>\n",
    "\n",
    "# Set: A collection of unique items.\n",
    "my_set = {1, 2, 3}\n",
    "print(my_set, type(my_set))  # Output: {1, 2, 3} <class 'set'>\n",
    "\n",
    "# NoneType: Represents the absence of a value\n",
    "my_var = None\n",
    "print(my_var, type(my_var))  # Output: None <class 'NoneType'>"
   ]
  },
  {
   "cell_type": "markdown",
   "id": "afe905c5-28da-4767-b943-1769e003a2ee",
   "metadata": {},
   "source": [
    "**FrozenSets** in Python are immutable versions of sets. They are unordered collections of unique elements, meaning they cannot contain duplicate values. Once a frozenset is created, it cannot be modified by adding or removing elements.\n",
    "\n",
    "* Immutability: FrozenSets are immutable, which makes them suitable for use as keys in dictionaries or as elements of other sets\n",
    "* Unordered: The elements in a frozenset do not have a specific order\n",
    "* Hashable: Because they are immutable, frozenset objects are hashable, allowing them to be used in contexts where mutable sets cannot."
   ]
  },
  {
   "cell_type": "code",
   "execution_count": 23,
   "id": "ed1f380f-b0bc-4447-a304-f8aabf7a8404",
   "metadata": {},
   "outputs": [
    {
     "name": "stdout",
     "output_type": "stream",
     "text": [
      "frozenset({1, 2, 3})\n",
      "FrozenSets are immutable.\n"
     ]
    }
   ],
   "source": [
    "# Creating a frozenset from a list\n",
    "my_list = [1, 2, 3, 2, 1]\n",
    "frozen_set = frozenset(my_list)\n",
    "print(frozen_set)  # Output: frozenset({1, 2, 3})\n",
    "\n",
    "# Attempting to modify a frozenset will result in an error\n",
    "try:\n",
    "    frozen_set.add(4)\n",
    "except AttributeError:\n",
    "    print(\"FrozenSets are immutable.\")"
   ]
  },
  {
   "cell_type": "markdown",
   "id": "3e50fa74-38a6-4e00-aa06-821599ad1223",
   "metadata": {},
   "source": [
    "**NoneType** in Python represents the absence of a value. In C/C++, there is no direct equivalent to Python's None. However, NULL (or nullptr in C++11) is often used to represent the absence of a value, particularly for pointers. For non-pointer types, special values like 0 or -1 might be used depending on the context.\n",
    "\n",
    "In Swift, nil is used to represent the absence of a value for optional types. "
   ]
  },
  {
   "cell_type": "markdown",
   "id": "40017b4d-3b0e-4fee-8884-91da2a620f83",
   "metadata": {},
   "source": [
    "## Variable Scope"
   ]
  },
  {
   "cell_type": "markdown",
   "id": "1896fd33-dfcf-466a-9111-4ecb91a70dfa",
   "metadata": {},
   "source": [
    "Scope of variables in Python is a little different from C/C++. \n",
    "\n",
    "In Python, variables defined outside any function are considered global. They are accessible from anywhere in the program, including inside functions.\n",
    "\n",
    "In Python, the following constructs create a new scope:\n",
    "\n",
    "* **Functions**: Each function call creates a new local scope. This means that\n",
    "variables defined inside a function are local to that function and cannot be\n",
    "accessed outside it unless explicitly returned or made global using the global\n",
    "keyword\n",
    "\n",
    "* **Nested Functions (Enclosing Scope)**: When a function is defined inside another\n",
    "function, it creates an enclosing scope. The inner function can access\n",
    "variables from the outer function's scope using the nonlocal keyword if needed\n",
    "\n",
    "* **Class Definitions**: While classes themselves do not create a new scope in the\n",
    "same way functions do, they do create a new namespace. Assignments to\n",
    "variables within a class definition go into this namespace, which is\n",
    "essentially the class's local scope. However, this is more about namespace\n",
    "management than traditional scope creation.\n",
    "\n",
    "* **Modules**: Each module has its own global scope. Variables defined at the top\n",
    "level of a module are global to that module but not to other modules unless\n",
    "imported\n",
    "\n",
    "The following constructs do not create a new scope:\n",
    "\n",
    "* **If-Else Statements**: These do not create a new scope; variables defined within\n",
    "them are accessible outside the block\n",
    "\n",
    "* **For Loops**: Like if-else statements, for loops do not create a new scope;\n",
    "variables defined inside them are accessible outside the loop\n",
    "\n",
    "* **While Loops**: Similar to for loops, while loops do not create a new scope\n",
    "\n"
   ]
  },
  {
   "cell_type": "markdown",
   "id": "3f3bd734-3d53-4162-ba78-db424175df60",
   "metadata": {},
   "source": [
    "Here is an example of a global variable in Python. Of course, using globals is not recommended. This is just to illustrate the example of scope."
   ]
  },
  {
   "cell_type": "code",
   "execution_count": 5,
   "id": "3b69a3f4-b14b-444b-9f9f-4387be94b3e0",
   "metadata": {},
   "outputs": [
    {
     "name": "stdout",
     "output_type": "stream",
     "text": [
      "3.414\n"
     ]
    }
   ],
   "source": [
    "# NOTE: Python is a dynamically typed language. Variables do not require their type \n",
    "# to be specified. They just take on the type of the value that is assigned to them!\n",
    "# The type specification used in the example code here is a \"type hint\". This is used \n",
    "# communicate the programmer's intent to smart IDEs and linters. The linters/IDEs will\n",
    "# flag warnings if there is violation. One popular such linting tool is PyLance\n",
    "var1: float = 3.414 # var1 is a global and visible throughout the file\n",
    "\n",
    "def func1():\n",
    "    print(var1) # var1 is a global and visible throughout the file\n",
    "func1()"
   ]
  },
  {
   "cell_type": "markdown",
   "id": "53cc7db8-ee9b-40d0-b162-c92861403ac2",
   "metadata": {},
   "source": [
    "When you assign a value to a variable with the same name as a global variable, but do so inside a function, the global variable becomes \"shadowed\" by the local variable. This means that within the function, any references to that variable name will point to the local variable, not the global one, similar to how local variables work in languages like C/C"
   ]
  },
  {
   "cell_type": "code",
   "execution_count": 4,
   "id": "6c5c84b1-def2-484b-a1fc-274ed281e54b",
   "metadata": {},
   "outputs": [
    {
     "name": "stdout",
     "output_type": "stream",
     "text": [
      "100\n"
     ]
    }
   ],
   "source": [
    "var1: float = 3.414 # var1 is a global and visible throughout the file\n",
    "def shadow_var1():\n",
    "    # Defining a var1 within the function will create a local var1 and the\n",
    "    # global version is no longer accessible\n",
    "    var1 = 100\n",
    "    print(var1)\n",
    "shadow_var1()    "
   ]
  },
  {
   "cell_type": "markdown",
   "id": "1eb6b038-8bbf-4429-98fc-ec2415610bdf",
   "metadata": {},
   "source": [
    "Variable shadowing occurs when a local variable has the same name as a global variable. In such cases, any reference to that variable name within the function will point to the local variable, not the global one.\n",
    "\n",
    "\n",
    "In the example below we are shadowing `var1`. But the **executing code will result in an error**.\n",
    "\n",
    "The use of the \"local\" `var1` happens before the first assignment, i.e the definition. The Python interpreter will not interpret the first use of `var1` as using the global version and the second use (the assignment) as a local shadow.\n",
    "\n",
    "In `func2()`, the first line attempts to print var1. However, since var1 is assigned later in the function, Python treats it as a local variable from the start. This means it hasn't been initialized yet when you try to print it, resulting in an error.\n",
    "\n",
    "The error you'll see is something like UnboundLocalError: local variable 'var1' referenced before assignment. This indicates that Python recognizes var1 as a local variable but hasn't been assigned a value yet."
   ]
  },
  {
   "cell_type": "code",
   "execution_count": 11,
   "id": "a265656c-102e-403c-a97d-2339adc76dcc",
   "metadata": {},
   "outputs": [
    {
     "ename": "UnboundLocalError",
     "evalue": "local variable 'var1' referenced before assignment",
     "output_type": "error",
     "traceback": [
      "\u001b[0;31m---------------------------------------------------------------------------\u001b[0m",
      "\u001b[0;31mUnboundLocalError\u001b[0m                         Traceback (most recent call last)",
      "Input \u001b[0;32mIn [11]\u001b[0m, in \u001b[0;36m<cell line: 9>\u001b[0;34m()\u001b[0m\n\u001b[1;32m      6\u001b[0m     \u001b[38;5;28mprint\u001b[39m(var1)\n\u001b[1;32m      7\u001b[0m     var1 \u001b[38;5;241m=\u001b[39m \u001b[38;5;241m4\u001b[39m \n\u001b[0;32m----> 9\u001b[0m \u001b[43mfunc2\u001b[49m\u001b[43m(\u001b[49m\u001b[43m)\u001b[49m\n",
      "Input \u001b[0;32mIn [11]\u001b[0m, in \u001b[0;36mfunc2\u001b[0;34m()\u001b[0m\n\u001b[1;32m      2\u001b[0m \u001b[38;5;28;01mdef\u001b[39;00m \u001b[38;5;21mfunc2\u001b[39m():\n\u001b[1;32m      3\u001b[0m     \u001b[38;5;66;03m# This func will give an error. When you have a global var1 and a local var1\u001b[39;00m\n\u001b[1;32m      4\u001b[0m     \u001b[38;5;66;03m# inside the func, code inside the func only sees the local var1. In this\u001b[39;00m\n\u001b[1;32m      5\u001b[0m     \u001b[38;5;66;03m# case the local var1 is read before assignment\u001b[39;00m\n\u001b[0;32m----> 6\u001b[0m     \u001b[38;5;28mprint\u001b[39m(\u001b[43mvar1\u001b[49m)\n\u001b[1;32m      7\u001b[0m     var1 \u001b[38;5;241m=\u001b[39m \u001b[38;5;241m4\u001b[39m\n",
      "\u001b[0;31mUnboundLocalError\u001b[0m: local variable 'var1' referenced before assignment"
     ]
    }
   ],
   "source": [
    "var1: float = 3.414 # var1 is a global and visible throughout the file\n",
    "def func2():\n",
    "    # This func will give an error. When you have a global var1 and a local var1\n",
    "    # inside the func, code inside the func only sees the local var1. In this\n",
    "    # case the local var1 is read before assignment\n",
    "    print(var1)\n",
    "    var1 = 4 \n",
    "\n",
    "func2()"
   ]
  },
  {
   "cell_type": "markdown",
   "id": "764fa9b4-65af-4133-a788-9fcb5437d98d",
   "metadata": {},
   "source": [
    "When you want to access or modify a global variable inside a function, you need to tell Python that you're referring to the global variable, not creating a new local one. This is where the `global` keyword comes in.\n"
   ]
  },
  {
   "cell_type": "code",
   "execution_count": 14,
   "id": "150a652a-8f37-45ab-9f8e-34c5652282f3",
   "metadata": {},
   "outputs": [
    {
     "name": "stdout",
     "output_type": "stream",
     "text": [
      "3.414\n",
      "4\n"
     ]
    }
   ],
   "source": [
    "var1 = 3.414\n",
    "def func3():\n",
    "    # Correct way to refer to global var1\n",
    "    global var1 \n",
    "    print(var1) # var1 is a global and visible throughout the file\n",
    "    var1 = 4\n",
    "\n",
    "func3()\n",
    "print(var1)"
   ]
  },
  {
   "cell_type": "code",
   "execution_count": 18,
   "id": "f18f7589-c824-4ca0-836f-b36d3ffbeb3f",
   "metadata": {},
   "outputs": [
    {
     "name": "stdout",
     "output_type": "stream",
     "text": [
      "3.414\n"
     ]
    }
   ],
   "source": [
    "# Global vars can be accessed from within class methods also.\n",
    "# Oh yeah, we have not yet discussed classes but if you have \n",
    "# seen a class in C++ this should be familiar\n",
    "var1 = 3.414\n",
    "class TestClass:\n",
    "    def __init__(self):\n",
    "        global var1\n",
    "        self.var1 = var1\n",
    "        var1 = 43\n",
    "\n",
    "tc = TestClass()\n",
    "print(tc.var1)"
   ]
  },
  {
   "cell_type": "markdown",
   "id": "0362acad-2443-4ffb-bb2d-6c264c205b92",
   "metadata": {},
   "source": [
    "## Control Flow"
   ]
  },
  {
   "cell_type": "markdown",
   "id": "1d7dd54d-90c5-4e2a-81f1-4874e5d5f5e0",
   "metadata": {},
   "source": [
    "Here are all of the control flow statements in Python. Note that there are no curly braces to indicate the start and end of a control block. Other points to note are\n",
    "\n",
    "* All control statements end in colon `:`\n",
    "* Control blocks are defined by indentation, not curly braces. The block of code inside a control statement **must** be indented. Indentation in Python is NOT optional to make code pretty. It is a hard requirement. Each line of code inside a block has to be indented by the same amount.\n",
    "* When blocks are nested then the indentation depth gets appropriately deeper\n",
    "* Control flow blocks do not restrict scope. Variables defined inside such blocks are accessible outside the block."
   ]
  },
  {
   "cell_type": "code",
   "execution_count": 36,
   "id": "afd9be5d-1fb7-4ab1-affa-1d14665d242f",
   "metadata": {},
   "outputs": [
    {
     "name": "stdout",
     "output_type": "stream",
     "text": [
      "x is greater than 5\n",
      "x is equal to 10\n",
      "Mangoes = 2\n"
     ]
    },
    {
     "ename": "NameError",
     "evalue": "name 'pizza' is not defined",
     "output_type": "error",
     "traceback": [
      "\u001b[0;31m---------------------------------------------------------------------------\u001b[0m",
      "\u001b[0;31mNameError\u001b[0m                                 Traceback (most recent call last)",
      "Input \u001b[0;32mIn [36]\u001b[0m, in \u001b[0;36m<cell line: 20>\u001b[0;34m()\u001b[0m\n\u001b[1;32m     17\u001b[0m \u001b[38;5;28mprint\u001b[39m(\u001b[38;5;124mf\u001b[39m\u001b[38;5;124m\"\u001b[39m\u001b[38;5;124mMangoes = \u001b[39m\u001b[38;5;132;01m{\u001b[39;00mmangoes\u001b[38;5;132;01m}\u001b[39;00m\u001b[38;5;124m\"\u001b[39m) \n\u001b[1;32m     19\u001b[0m \u001b[38;5;66;03m# this line will cause an error because of use of pizza before definition\u001b[39;00m\n\u001b[0;32m---> 20\u001b[0m \u001b[38;5;28mprint\u001b[39m(\u001b[43mpizza\u001b[49m)\n",
      "\u001b[0;31mNameError\u001b[0m: name 'pizza' is not defined"
     ]
    }
   ],
   "source": [
    "# if statement\n",
    "x = 10\n",
    "if x > 5:\n",
    "    print(\"x is greater than 5\")\n",
    "\n",
    "x = 10\n",
    "if x > 10:\n",
    "    pizza = 5\n",
    "    print(\"x is greater than 10\")\n",
    "elif x == 10:\n",
    "    mangoes = 2\n",
    "    print(\"x is equal to 10\")\n",
    "else:\n",
    "    print(\"x is less than 10\")\n",
    "\n",
    "# mangoes is assigned inside an if block but its scope is not limited to that block\n",
    "print(f\"Mangoes = {mangoes}\") \n",
    "\n",
    "# this line will cause an error because of use of pizza before definition\n",
    "print(pizza) "
   ]
  },
  {
   "cell_type": "code",
   "execution_count": 37,
   "id": "01807de9-e2cb-405c-a5cc-e6d889dedb91",
   "metadata": {},
   "outputs": [
    {
     "name": "stdout",
     "output_type": "stream",
     "text": [
      "Value is 1\n"
     ]
    }
   ],
   "source": [
    "# Match statement (equivalent of switch)\n",
    "def check_value(x):\n",
    "    match x:\n",
    "        case 1:\n",
    "            return \"Value is 1\"\n",
    "        case 2:\n",
    "            return \"Value is 2\"\n",
    "        case _:\n",
    "            return \"Value is something else\"\n",
    "print(check_value(1))  # Output: Value is 1\n"
   ]
  },
  {
   "cell_type": "code",
   "execution_count": 38,
   "id": "f5166861-850f-4543-8958-5bc77e6e2e76",
   "metadata": {},
   "outputs": [
    {
     "name": "stdout",
     "output_type": "stream",
     "text": [
      "apple\n",
      "banana\n",
      "cherry\n"
     ]
    }
   ],
   "source": [
    "# For Loop\n",
    "fruits = [\"apple\", \"banana\", \"cherry\"]\n",
    "for fruit in fruits:\n",
    "    print(fruit)"
   ]
  },
  {
   "cell_type": "code",
   "execution_count": 39,
   "id": "47ce667c-46ff-4eb2-8ea3-13e253d33096",
   "metadata": {},
   "outputs": [
    {
     "name": "stdout",
     "output_type": "stream",
     "text": [
      "0\n",
      "1\n",
      "2\n",
      "3\n",
      "4\n"
     ]
    }
   ],
   "source": [
    "# While loop\n",
    "i = 0\n",
    "while i < 5:\n",
    "    print(i)\n",
    "    i += 1"
   ]
  },
  {
   "cell_type": "markdown",
   "id": "6c9d18e5-5e71-4927-9b11-2263f580b201",
   "metadata": {},
   "source": [
    "# Break and continue\n",
    "for i in range(5):\n",
    "    if i == 3:\n",
    "        break  # Exit the loop when i is 3\n",
    "    print(i)\n",
    "print()\n",
    "for i in range(5):\n",
    "    if i == 3:\n",
    "        continue  # Skip the current iteration when i is 3\n",
    "    print(i)"
   ]
  },
  {
   "cell_type": "markdown",
   "id": "b128786a-85c2-495f-ae23-1a759430c1c9",
   "metadata": {},
   "source": [
    "## Functions"
   ]
  },
  {
   "cell_type": "code",
   "execution_count": null,
   "id": "8f860cf4-01ff-4523-9726-5231b585c860",
   "metadata": {},
   "outputs": [],
   "source": []
  },
  {
   "cell_type": "markdown",
   "id": "71676247-f608-477a-a808-54bed76dbe48",
   "metadata": {},
   "source": [
    "## Lists, Tuples and Dictionaries"
   ]
  },
  {
   "cell_type": "markdown",
   "id": "39f2fc41-06e8-4d2c-972a-d815e433efa4",
   "metadata": {},
   "source": [
    "### Lists\n",
    "\n",
    "Lists are sequences of data, much like an array in C/C++ or Swift. They are mutable, \n",
    "ordered, and indexed. In Python, lists can hold heterogeneous values. So a list can \n",
    "contain str, int, float, other lists etc. Here is a set of useful methods in lists\n",
    "\n",
    "| **Method** | **Description** |\n",
    "| --- | --- |\n",
    "| `append()` | Adds an element at the end of the list. |\n",
    "| `clear()` | Removes all elements from the list. |\n",
    "| `copy()` | Returns a shallow copy of the list |\n",
    "| `count()` | Returns the number of occurances of a specified value. |\n",
    "| `extend()` | Adds multiple elements from an *iterable* to the end of the list |\n",
    "| `index()` | Returns the index of the first occurance of a specified value |\n",
    "| `insert()` | Inserts an element at a specified position |\n",
    "| `pop()` | Removes and returns an element at a specified position |\n",
    "| `remove()` | Removes the first occurance of a specified value |\n",
    "| `reverse()` | Reverses the order of the list |\n",
    "| `sort()` | Sorts the list in place |"
   ]
  },
  {
   "cell_type": "code",
   "execution_count": 47,
   "id": "964b85de-def8-45f2-80d6-71beaa7a94de",
   "metadata": {},
   "outputs": [
    {
     "name": "stdout",
     "output_type": "stream",
     "text": [
      "[1, 2, 3, 4]\n",
      "[1, 2, 3, 4, 5, 6]\n",
      "[0, 1, 2, 3, 4, 5, 6]\n",
      "[0, 1, 2, 3, 4, 5, 6]\n"
     ]
    }
   ],
   "source": [
    "# Creating a list\n",
    "my_list = [ 2, 3]\n",
    "\n",
    "# Append an element\n",
    "my_list.append(4)\n",
    "print(my_list)  # Output: [1, 2, 3, 4]\n",
    "\n",
    "# Extend with multiple elements\n",
    "my_list.extend([5, 6])\n",
    "print(my_list)  # Output: [1, 2, 3, 4, 5, 6]\n",
    "\n",
    "# Insert at a specific position insert(pos, value)\n",
    "my_list.insert(0, 0)\n",
    "print(my_list)  # Output: [0, 1, 2, 3, 4, 5, 6]\n",
    "\n",
    "# Sort the list\n",
    "my_list.sort()\n",
    "print(my_list)  # Output: [0, 1, 2, 3, 4, 5, 6]\n"
   ]
  },
  {
   "cell_type": "markdown",
   "id": "b8db619f-a800-48fd-bd7e-e2bce4ca30f0",
   "metadata": {},
   "source": [
    "## Modules and Imports"
   ]
  },
  {
   "cell_type": "code",
   "execution_count": null,
   "id": "1ccf969c-a63e-40e2-86bb-a8c3080fba64",
   "metadata": {},
   "outputs": [],
   "source": []
  },
  {
   "cell_type": "markdown",
   "id": "6b540044-884f-4a99-b5d6-1e9f2527c571",
   "metadata": {},
   "source": [
    "## Input/Output Operations"
   ]
  },
  {
   "cell_type": "code",
   "execution_count": null,
   "id": "19d11098-06d3-436a-bf09-c03522feb78b",
   "metadata": {},
   "outputs": [],
   "source": []
  }
 ],
 "metadata": {
  "kernelspec": {
   "display_name": "Python 3 (ipykernel)",
   "language": "python",
   "name": "python3"
  },
  "language_info": {
   "codemirror_mode": {
    "name": "ipython",
    "version": 3
   },
   "file_extension": ".py",
   "mimetype": "text/x-python",
   "name": "python",
   "nbconvert_exporter": "python",
   "pygments_lexer": "ipython3",
   "version": "3.10.13"
  }
 },
 "nbformat": 4,
 "nbformat_minor": 5
}
