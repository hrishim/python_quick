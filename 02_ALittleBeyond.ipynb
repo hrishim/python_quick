{
 "cells": [
  {
   "cell_type": "markdown",
   "id": "f91214df-0de2-48ea-b402-249aff1ead07",
   "metadata": {},
   "source": [
    "## zip functions to combine lists or other sequences"
   ]
  },
  {
   "cell_type": "code",
   "execution_count": null,
   "id": "9040d1db-eb98-47da-8f06-e48d613a2916",
   "metadata": {},
   "outputs": [],
   "source": []
  },
  {
   "cell_type": "markdown",
   "id": "5f5ed98e-c362-4883-930f-9b69647e04af",
   "metadata": {},
   "source": [
    "# Callables\n",
    "\n",
    "In Python, several types are callables:\n",
    "* **Functions**: Defined with `def`, these are the most common callables.\n",
    "* **Classes**: Classes are also callables because calling a class creates an instance of it.\n",
    "* **Custom Callable Instances**: Classes can implement the __call__ method to make their instances callable.\n",
    "* **Lambda Functions**: These are small anonymous functions defined with the `lambda` keyword.\n",
    "* **Built-in Functions**: Like `int`, `list`, `dict`, etc., which create instances when called.\n",
    "* **Generator Functions**: Defined using the yield keyword\n",
    "* **Asynchronous Functions**: Defined using the `async def` syntax."
   ]
  },
  {
   "cell_type": "code",
   "execution_count": 1,
   "id": "5204c13a-2d3a-4fc4-b6bf-6b5f8e5f3955",
   "metadata": {},
   "outputs": [
    {
     "name": "stdout",
     "output_type": "stream",
     "text": [
      "My name is Trey\n",
      "\n",
      "True\n",
      "True\n",
      "False\n"
     ]
    }
   ],
   "source": [
    "# Creating custom callable instances\n",
    "\n",
    "# To create a custom callable instance, you need to define a class with a __call__ method. Here's an example\n",
    "\n",
    "class Person:\n",
    "    def __init__(self, name):\n",
    "        self.name = name\n",
    "\n",
    "    def __call__(self):\n",
    "        print(f\"My name is {self.name}\")\n",
    "\n",
    "# Create an instance of Person\n",
    "trey = Person(\"Trey\")\n",
    "\n",
    "# Call the instance\n",
    "trey()  # Output: My name is Trey\n",
    "\n",
    "print()\n",
    "\n",
    "# The callable() function checks if an object is callable. It returns True if the object can be called and False otherwise.\n",
    "\n",
    "def greet(name):\n",
    "    print(f\"Hello, {name}!\")\n",
    "\n",
    "print(callable(greet))  # Output: True\n",
    "\n",
    "class NotCallable:\n",
    "    pass\n",
    "\n",
    "print(callable(NotCallable))  # Output: True (because classes are callable)\n",
    "print(callable(NotCallable()))  # Output: False (because instances of NotCallable are not callable)\n",
    "\n"
   ]
  },
  {
   "cell_type": "markdown",
   "id": "814b225b-e922-4b19-bdae-bb9cba98441c",
   "metadata": {},
   "source": [
    "**Typing.Callable**\n",
    "In addition to the built-in callable() function, Python's typing module provides typing.Callable, which is used for type annotations to specify that a parameter or return value should be a callable object. In this example, execute_function expects a callable that takes a string and returns nothing (None)."
   ]
  },
  {
   "cell_type": "code",
   "execution_count": 2,
   "id": "0fb194a2-ca7a-42fd-a2e1-02355d96a499",
   "metadata": {},
   "outputs": [
    {
     "name": "stdout",
     "output_type": "stream",
     "text": [
      "Hello, Alice!\n"
     ]
    }
   ],
   "source": [
    "from typing import Callable\n",
    "\n",
    "def execute_function(func: Callable[[str], None], name: str):\n",
    "    func(name)\n",
    "\n",
    "def greet(name: str):\n",
    "    print(f\"Hello, {name}!\")\n",
    "\n",
    "execute_function(greet, \"Alice\")  # Output: Hello, Alice!\n"
   ]
  },
  {
   "cell_type": "code",
   "execution_count": null,
   "id": "a1ff3f75-3682-4b89-95c7-2919884738c0",
   "metadata": {},
   "outputs": [],
   "source": []
  }
 ],
 "metadata": {
  "kernelspec": {
   "display_name": "Python 3 (ipykernel)",
   "language": "python",
   "name": "python3"
  },
  "language_info": {
   "codemirror_mode": {
    "name": "ipython",
    "version": 3
   },
   "file_extension": ".py",
   "mimetype": "text/x-python",
   "name": "python",
   "nbconvert_exporter": "python",
   "pygments_lexer": "ipython3",
   "version": "3.10.13"
  }
 },
 "nbformat": 4,
 "nbformat_minor": 5
}
